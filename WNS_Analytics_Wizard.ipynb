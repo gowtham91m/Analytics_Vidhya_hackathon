{
  "nbformat": 4,
  "nbformat_minor": 0,
  "metadata": {
    "colab": {
      "name": "WNS Analytics Wizard.ipynb",
      "version": "0.3.2",
      "provenance": [],
      "collapsed_sections": [],
      "include_colab_link": true
    },
    "kernelspec": {
      "name": "python3",
      "display_name": "Python 3"
    }
  },
  "cells": [
    {
      "cell_type": "markdown",
      "metadata": {
        "id": "view-in-github",
        "colab_type": "text"
      },
      "source": [
        "[View in Colaboratory](https://colab.research.google.com/github/gowtham91m/Analytics_Vidhya_hackathon/blob/master/WNS_Analytics_Wizard.ipynb)"
      ]
    },
    {
      "metadata": {
        "id": "iyYpRGx8gXBT",
        "colab_type": "text"
      },
      "cell_type": "markdown",
      "source": [
        "# **Problem Statement **\n",
        "\n",
        "Date : Sept 13 2018\n",
        "\n",
        "Your client is a large MNC and they have 9 broad verticals across the organisation. One of the problem your client is facing is\n",
        "around identifying the right people for promotion (only for manager position and below) and prepare them in time. Currently the\n",
        "process, they are following is:\n",
        "1. They first identify a set of employees based on recommendations/ past performance\n",
        "2. Selected employees go through the separate training and evaluation program for each vertical. These programs are based\n",
        "on the required skill of each vertical\n",
        "3. At the end of the program, based on various factors such as training performance, KPI completion (only employees with\n",
        "KPIs completed greater than 60% are considered) etc., employee gets promotion\n",
        "\n",
        "For above mentioned process, the final promotions are only announced after the evaluation and this leads to delay in transition to\n",
        "their new roles. Hence, company needs your help in identifying the eligible candidates at a particular checkpoint so that they can\n",
        "expedite the entire promotion cycle.\n",
        "\n",
        "**Solution: **\n",
        "\n",
        "Voting Classifier of three models, Randomforest, ExtraTreeCalssifier and XGBoost is used for final submission. \n",
        "There is clear over fitting in Randomforest and ExtraTreeClassifier, there is still scope for model tuning.\n",
        "\n"
      ]
    },
    {
      "metadata": {
        "id": "AuFdD04rcnoY",
        "colab_type": "code",
        "colab": {}
      },
      "cell_type": "code",
      "source": [
        "#!pip install lightgbm\n",
        "#import lightgbm as lgb\n",
        "import pandas as pd\n",
        "import numpy as np\n",
        "from sklearn.model_selection import train_test_split,GridSearchCV,RandomizedSearchCV\n",
        "from sklearn.preprocessing import StandardScaler, RobustScaler\n",
        "from sklearn.pipeline import make_pipeline\n",
        "from sklearn.metrics import f1_score\n",
        "from sklearn.preprocessing import PolynomialFeatures\n",
        "from sklearn.model_selection import PredefinedSplit\n",
        "from sklearn.cross_validation import StratifiedKFold,cross_val_score\n",
        "from time import time\n",
        "import matplotlib.pyplot as plt\n",
        "from sklearn.utils import shuffle\n",
        "from sklearn.preprocessing import PolynomialFeatures\n",
        "\n",
        "from sklearn.linear_model import SGDClassifier\n",
        "from sklearn.ensemble import RandomForestClassifier, ExtraTreesClassifier,VotingClassifier\n",
        "import xgboost as xgb\n",
        "from sklearn import svm\n",
        "from sklearn.neighbors import RadiusNeighborsClassifier,KNeighborsClassifier\n",
        "from sklearn.gaussian_process import GaussianProcessClassifier\n",
        "from sklearn.naive_bayes import GaussianNB\n",
        "from sklearn.tree import DecisionTreeClassifier\n",
        "\n",
        "import os\n",
        "import warnings\n",
        "warnings.filterwarnings(module='sklearn*', action='ignore', category=DeprecationWarning)\n",
        "warnings.filterwarnings(module='sklearn*', action='ignore', category=FutureWarning)"
      ],
      "execution_count": 0,
      "outputs": []
    },
    {
      "metadata": {
        "id": "_SkkSBrQWX3y",
        "colab_type": "code",
        "colab": {}
      },
      "cell_type": "code",
      "source": [
        "%%capture\n",
        "!pip install PyDrive\n",
        "#!pip install -U imbalanced-learn\n",
        "from pydrive.auth import GoogleAuth\n",
        "from pydrive.drive import GoogleDrive\n",
        "from google.colab import auth\n",
        "from oauth2client.client import GoogleCredentials\n",
        "from google.colab import files\n",
        "auth.authenticate_user()\n",
        "gauth = GoogleAuth()\n",
        "gauth.credentials = GoogleCredentials.get_application_default()\n",
        "drive = GoogleDrive(gauth)"
      ],
      "execution_count": 0,
      "outputs": []
    },
    {
      "metadata": {
        "id": "XhYlX7BkWZ0u",
        "colab_type": "code",
        "colab": {}
      },
      "cell_type": "code",
      "source": [
        "train = drive.CreateFile({'id': '154jKYkO-NwxrRaOiPSx2unXUAQq2qXgD'})\n",
        "test = drive.CreateFile({'id': '1k8UPlZ4WDD49En566qeaGqJrvSt5ywbB'})\n",
        "  \n",
        "train_impute = drive.CreateFile({'id': '1jDo4Lduatl3BeujV9AwneJRHm1lCptdE'})\n",
        "test_impute = drive.CreateFile({'id': '1JcTolhhpF_pTKM9Nv0yfiYOK86wxRhXW'})\n",
        "\n",
        "train.GetContentFile('train.csv')\n",
        "test.GetContentFile('test.csv')\n",
        "\n",
        "train_impute.GetContentFile('train_impute.csv')\n",
        "test_impute.GetContentFile('test_impute.csv')"
      ],
      "execution_count": 0,
      "outputs": []
    },
    {
      "metadata": {
        "id": "j3zVsVRqCB0U",
        "colab_type": "code",
        "colab": {}
      },
      "cell_type": "code",
      "source": [
        "def submit_file(model,test,test_id):\n",
        "  #test_id = test.employee_id\n",
        "  #test = test.drop(['employee_id'],axis=1)\n",
        "  pred = model.predict(test)\n",
        "  pred = [0 if i <0.5 else 1 for i in pred]\n",
        "  \n",
        "  submit = pd.DataFrame({'employee_id':test_id,'is_promoted':pred})\n",
        "  submit.to_csv('submit.csv',index=False)\n",
        "  files.download('submit.csv')\n",
        "\n",
        "## grid search cv\n",
        "def report(results, n_top=3):\n",
        "   \n",
        "    i=1\n",
        "    candidates = np.flatnonzero(results['rank_test_score'] == i)\n",
        "    for candidate in candidates:\n",
        "\n",
        "        print(\"Mean train score: {0:.3f} (std: {1:.3f})\".format(\n",
        "              results['mean_train_score'][candidate],\n",
        "              results['std_train_score'][candidate]))\n",
        "\n",
        "        print(\"Mean validation score: {0:.3f} (std: {1:.3f})\".format(\n",
        "              results['mean_test_score'][candidate],\n",
        "              results['std_test_score'][candidate]))\n",
        "\n",
        "        print(\"Parameters: {0}\".format(results['params'][candidate]))\n",
        "        print(\"\")\n",
        "\n",
        "def gridsearchcv(xtrain,ytrain,model,params, fit_params = None):\n",
        "  grid = GridSearchCV(model\n",
        "                      ,params\n",
        "                      ,scoring = 'f1'\n",
        "                      ,fit_params = fit_params\n",
        "                      ,cv=StratifiedKFold(ytrain,n_folds=3, shuffle=True,random_state=3)\n",
        "                      ,verbose = 1\n",
        "                      ,refit=True\n",
        "                      ,return_train_score = True\n",
        "                     )\n",
        "  grid.fit(xtrain,ytrain)\n",
        "  \n",
        "  report(grid.cv_results_)\n",
        "  return grid\n",
        "\n",
        "def randomgridcv(xtrain,ytrain,model,params,  fit_params = None):\n",
        "  \n",
        "  grid = RandomizedSearchCV(model\n",
        "                           ,params\n",
        "                           ,n_jobs=5\n",
        "                           ,cv=StratifiedKFold(ytrain,n_folds=3, shuffle=False,random_state=3)\n",
        "                           ,scoring='f1'\n",
        "                           ,verbose=1\n",
        "                           ,refit=True\n",
        "                           ,return_train_score = True)\n",
        "  grid.fit(xtrain,ytrain)\n",
        "  \n",
        "  report(grid.cv_results_)\n",
        "  return grid\n",
        "\n",
        "# grid search on custom validation data to fecilitate the data preprocessing only on training data and apply to validatoin data\n",
        "def gridsearch(X,y,model,params, scoring = 'f1', fit_params = None):\n",
        "  x_train, x_val, y_train, y_val = train_test_split(X, y, stratify = y, test_size = .3,  random_state=12)\n",
        "  ss = StandardScaler()\n",
        "  x_train = ss.fit_transform(x_train)\n",
        "  x_val = ss.transform(x_val) \n",
        "  \n",
        "  X = x_train.append(x_val,axis=0)\n",
        "  y = y_train.append(y_val)\n",
        "  \n",
        "  my_test_fold= [-1] * len(y_train) + [0] * len(y_val) \n",
        "  \n",
        "  \n",
        "  grid = GridSearchCV(model\n",
        "                      ,params\n",
        "                      ,scoring = scoring\n",
        "                      ,fit_params = fit_params\n",
        "                      ,cv = PredefinedSplit(test_fold=my_test_fold)\n",
        "                      ,verbose = 1\n",
        "                      ,refit=True\n",
        "                      ,return_train_score = True\n",
        "                     )\n",
        "  grid.fit(X,y)\n",
        "  \n",
        "  report(grid.cv_results_)\n",
        "  return grid\n",
        "\n",
        "def randomgrid(X,y,model,params, scoring = 'f1', fit_params = None):\n",
        "  x_train, x_val, y_train, y_val = train_test_split(X, y, stratify = y, test_size = .3,  random_state=12)\n",
        "  \n",
        "  ss = StandardScaler()\n",
        "  x_train = ss.fit_transform(x_train)\n",
        "  x_val = ss.transform(x_val)\n",
        "  \n",
        "  X = np.append(x_train,x_val,axis=0)\n",
        "  y = y_train.append(y_val)\n",
        "  #y = np.append(y_train,y_val,axis=0)\n",
        "  \n",
        "  my_test_fold= [-1] * len(y_train) + [0] * len(y_val) \n",
        "  \n",
        "  grid = RandomizedSearchCV(model, params\n",
        "                   ,n_jobs=5\n",
        "                   ,cv = PredefinedSplit(test_fold=my_test_fold)\n",
        "                   ,scoring=scoring\n",
        "                   ,verbose=1\n",
        "                   ,refit=True\n",
        "                   ,return_train_score = True)\n",
        "  grid.fit(X,y)\n",
        "  \n",
        "  report(grid.cv_results_)\n",
        "  return grid"
      ],
      "execution_count": 0,
      "outputs": []
    },
    {
      "metadata": {
        "id": "rxEAXdM5oXf6",
        "colab_type": "code",
        "colab": {}
      },
      "cell_type": "code",
      "source": [
        "#path = 'C:\\\\Users\\\\gmallikarjuna\\\\Documents\\\\Gowtham\\\\data\\\\av\\\\wns'\n",
        "#os.chdir(path)\n",
        "#train = pd.read_csv('train_impute.csv')\n",
        "#test = pd.read_csv('test_impute.csv')\n",
        "\n",
        "train = pd.read_csv('train.csv')\n",
        "test = pd.read_csv('test.csv')\n",
        "\n",
        "train = pd.get_dummies(train,drop_first=True)\n",
        "test = pd.get_dummies(test,drop_first=True)\n",
        "\n",
        "test_id = test.employee_id\n",
        "test = test.drop(['employee_id'],axis=1)\n",
        "\n",
        "train.previous_year_rating.fillna(train.previous_year_rating.value_counts().reset_index().iloc[0,0],inplace=True)\n",
        "test.previous_year_rating.fillna(test.previous_year_rating.value_counts().reset_index().iloc[0,0],inplace=True)\n",
        "\n",
        "X=train.drop(['is_promoted','employee_id'],axis=1)\n",
        "y=train['is_promoted']\n",
        "\n",
        "\n",
        "ss = StandardScaler()\n",
        "X= ss.fit_transform(X)\n",
        "test = ss.transform(test)\n",
        "\n",
        "x_train, x_val, y_train, y_val = train_test_split(X, y,stratify = y, test_size = .3,  random_state=12)"
      ],
      "execution_count": 0,
      "outputs": []
    },
    {
      "metadata": {
        "id": "OGxX8xDP6DUV",
        "colab_type": "code",
        "colab": {
          "base_uri": "https://localhost:8080/",
          "height": 155
        },
        "outputId": "b521aa94-ddad-476a-ddd4-9fb0dc2fd088"
      },
      "cell_type": "code",
      "source": [
        "params={\n",
        "    'max_depth': [3,4,5,6,7,8,9],\n",
        "    'learning_rate': [0.0001, 0.001, 0.01, 0.1, 0.2, 0.3]\n",
        "    ,'subsample': [0.4,0.5,0.6,0.7,0.8,0.9,1.0],\n",
        "    'colsample_bytree': [0.5,0.6,0.7,0.8],\n",
        "    'n_estimators': [100,300,350,400,450,500,550,600,700]\n",
        "    ,'booster':['gbtree','gblinear','dart']\n",
        "    ,'gamma':[0.001,0.01,0.1,0.3]\n",
        "    ,'min_child_weight':[2,3,4,5]\n",
        "    ,'reg_alpha':[0.01, 0.02, 0.03, 0.04]\n",
        "    \n",
        "}\n",
        "\n",
        "xgb_clf =xgb.XGBClassifier(objective= 'binary:logistic',scale_pos_weight=0.9)\n",
        "t = time()\n",
        "clf = randomgridcv(X,y,xgb_clf,params) \n",
        "print(time()-t)\n",
        "#submit_file(clf,test,test_id)"
      ],
      "execution_count": 12,
      "outputs": [
        {
          "output_type": "stream",
          "text": [
            "Fitting 3 folds for each of 10 candidates, totalling 30 fits\n"
          ],
          "name": "stdout"
        },
        {
          "output_type": "stream",
          "text": [
            "[Parallel(n_jobs=5)]: Done  30 out of  30 | elapsed: 45.1min finished\n"
          ],
          "name": "stderr"
        },
        {
          "output_type": "stream",
          "text": [
            "Mean train score: 0.513 (std: 0.002)\n",
            "Mean validation score: 0.503 (std: 0.009)\n",
            "Parameters: {'subsample': 1.0, 'reg_alpha': 0.02, 'n_estimators': 550, 'min_child_weight': 3, 'max_depth': 3, 'learning_rate': 0.1, 'gamma': 0.001, 'colsample_bytree': 0.8, 'booster': 'dart'}\n",
            "\n",
            "2939.4818251132965\n"
          ],
          "name": "stdout"
        }
      ]
    },
    {
      "metadata": {
        "id": "eMheGkgZIHjz",
        "colab_type": "code",
        "colab": {
          "base_uri": "https://localhost:8080/",
          "height": 118
        },
        "outputId": "54767e7d-176e-4d45-cb6a-774441b74d5c"
      },
      "cell_type": "code",
      "source": [
        "param_dist = {\"max_depth\": [ 2,3,None],\n",
        "              \"max_features\": ['auto',None],\n",
        "              \"min_samples_split\": [4,6,8,9,10],\n",
        "              \"min_samples_leaf\": [2,3,4,5],\n",
        "              \"bootstrap\": [True, False],\n",
        "              \"criterion\": [\"gini\", \"entropy\"],\n",
        "             \"n_estimators\":[25,35,40,50,60,70,100,150],\n",
        "             }\n",
        "\n",
        "model=ExtraTreesClassifier(class_weight='balanced',random_state=0)\n",
        "et_clf = randomgridcv(X,y,model,param_dist)\n",
        "#submit_file(et_clf,test,test_id)"
      ],
      "execution_count": 13,
      "outputs": [
        {
          "output_type": "stream",
          "text": [
            "Fitting 3 folds for each of 10 candidates, totalling 30 fits\n"
          ],
          "name": "stdout"
        },
        {
          "output_type": "stream",
          "text": [
            "[Parallel(n_jobs=5)]: Done  30 out of  30 | elapsed:  2.4min finished\n"
          ],
          "name": "stderr"
        },
        {
          "output_type": "stream",
          "text": [
            "Mean train score: 0.814 (std: 0.005)\n",
            "Mean validation score: 0.481 (std: 0.007)\n",
            "Parameters: {'n_estimators': 70, 'min_samples_split': 8, 'min_samples_leaf': 4, 'max_features': None, 'max_depth': None, 'criterion': 'gini', 'bootstrap': True}\n",
            "\n"
          ],
          "name": "stdout"
        }
      ]
    },
    {
      "metadata": {
        "id": "rZVGc9vA6DQf",
        "colab_type": "code",
        "colab": {
          "base_uri": "https://localhost:8080/",
          "height": 118
        },
        "outputId": "2ebb6557-174c-4f7f-8bee-f9cdf666ffef"
      },
      "cell_type": "code",
      "source": [
        "param_dist = {\"max_depth\": [ 2,3,None],\n",
        "              \"max_features\": ['auto',None],\n",
        "              \"min_samples_split\": [2,4,5,6,8,10],\n",
        "              \"min_samples_leaf\": [1,2,3,4],\n",
        "              \"bootstrap\": [True, False],\n",
        "              \"criterion\": [\"gini\", \"entropy\"],\n",
        "             \"n_estimators\":[25,35,50,60,70,80,100,150],\n",
        "             }\n",
        "\n",
        "model=RandomForestClassifier(class_weight='balanced',random_state=0)\n",
        "rf_clf = randomgridcv(X,y,model,param_dist)"
      ],
      "execution_count": 14,
      "outputs": [
        {
          "output_type": "stream",
          "text": [
            "Fitting 3 folds for each of 10 candidates, totalling 30 fits\n"
          ],
          "name": "stdout"
        },
        {
          "output_type": "stream",
          "text": [
            "[Parallel(n_jobs=5)]: Done  30 out of  30 | elapsed:  1.5min finished\n"
          ],
          "name": "stderr"
        },
        {
          "output_type": "stream",
          "text": [
            "Mean train score: 0.882 (std: 0.004)\n",
            "Mean validation score: 0.478 (std: 0.003)\n",
            "Parameters: {'n_estimators': 80, 'min_samples_split': 10, 'min_samples_leaf': 4, 'max_features': None, 'max_depth': None, 'criterion': 'gini', 'bootstrap': True}\n",
            "\n"
          ],
          "name": "stdout"
        }
      ]
    },
    {
      "metadata": {
        "id": "Vojsd1ZaN_Yo",
        "colab_type": "code",
        "colab": {}
      },
      "cell_type": "code",
      "source": [
        "xgb_classifier=xgb.XGBClassifier(objective= 'binary:logistic'\n",
        "                                 ,scale_pos_weight=0.9\n",
        "                                 ,subsample= 1.0\n",
        "                                 ,reg_alpha= 0.02\n",
        "                                 ,n_estimators= 550\n",
        "                                 ,min_child_weight=3\n",
        "                                 ,max_depth= 3\n",
        "                                 ,learning_rate =0.1\n",
        "                                 , gamma= 0.001\n",
        "                                 ,colsample_bytree= 0.8\n",
        "                                 ,booster= 'dart')"
      ],
      "execution_count": 0,
      "outputs": []
    },
    {
      "metadata": {
        "id": "gmcRaINoN_ja",
        "colab_type": "code",
        "colab": {}
      },
      "cell_type": "code",
      "source": [
        "et_classifier = ExtraTreesClassifier(class_weight='balanced'\n",
        "                                     ,random_state=0\n",
        "                                     ,n_estimators= 70\n",
        "                                     ,min_samples_split= 8\n",
        "                                     ,min_samples_leaf= 4\n",
        "                                     ,max_features= None\n",
        "                                     ,max_depth= None\n",
        "                                     ,criterion= 'gini'\n",
        "                                     ,bootstrap= True\n",
        ")\n"
      ],
      "execution_count": 0,
      "outputs": []
    },
    {
      "metadata": {
        "id": "TANlktbFN_nE",
        "colab_type": "code",
        "colab": {}
      },
      "cell_type": "code",
      "source": [
        "rf_classifier=RandomForestClassifier(class_weight='balanced'\n",
        "                                     ,random_state=0\n",
        "                                     ,n_estimators= 80\n",
        "                                     ,min_samples_split= 10\n",
        "                                     ,min_samples_leaf= 4\n",
        "                                     ,max_features= None\n",
        "                                     ,max_depth= None\n",
        "                                     ,criterion = 'gini'\n",
        "                                     ,bootstrap =True\n",
        ")"
      ],
      "execution_count": 0,
      "outputs": []
    },
    {
      "metadata": {
        "id": "ULZ55iGMN_g6",
        "colab_type": "code",
        "colab": {}
      },
      "cell_type": "code",
      "source": [
        ""
      ],
      "execution_count": 0,
      "outputs": []
    },
    {
      "metadata": {
        "id": "lMXEUDDR6DMI",
        "colab_type": "code",
        "colab": {
          "base_uri": "https://localhost:8080/",
          "height": 34
        },
        "outputId": "ab4e3c7f-0d60-4e60-f83d-c7a1e51f10bc"
      },
      "cell_type": "code",
      "source": [
        "model = VotingClassifier(estimators=[('et', et_classifier), ('rf', rf_classifier),('xgb',xgb_classifier)], voting='soft',flatten_transform=True)\n",
        "model.fit(x_train,y_train)\n",
        "model.score(x_val,y_val)"
      ],
      "execution_count": 21,
      "outputs": [
        {
          "output_type": "execute_result",
          "data": {
            "text/plain": [
              "0.9368120172717874"
            ]
          },
          "metadata": {
            "tags": []
          },
          "execution_count": 21
        }
      ]
    },
    {
      "metadata": {
        "id": "66Ltjungd5rY",
        "colab_type": "code",
        "colab": {
          "base_uri": "https://localhost:8080/",
          "height": 34
        },
        "outputId": "1cc27226-b724-4395-9114-9f7d8e310594"
      },
      "cell_type": "code",
      "source": [
        "pred = model.predict(x_val)\n",
        "f1_score(y_val,pred)"
      ],
      "execution_count": 24,
      "outputs": [
        {
          "output_type": "execute_result",
          "data": {
            "text/plain": [
              "0.5371937639198219"
            ]
          },
          "metadata": {
            "tags": []
          },
          "execution_count": 24
        }
      ]
    },
    {
      "metadata": {
        "id": "j2ZTbGNldJ7O",
        "colab_type": "code",
        "colab": {
          "base_uri": "https://localhost:8080/",
          "height": 152
        },
        "outputId": "c6bd6fdb-3bd7-4820-fa6d-a225b5650304"
      },
      "cell_type": "code",
      "source": [
        "model = VotingClassifier(estimators=[('et', et_classifier), ('rf', rf_classifier),('xgb',xgb_classifier)], voting='soft',flatten_transform=True)\n",
        "model.fit(X,y)"
      ],
      "execution_count": 25,
      "outputs": [
        {
          "output_type": "execute_result",
          "data": {
            "text/plain": [
              "VotingClassifier(estimators=[('et', ExtraTreesClassifier(bootstrap=True, class_weight='balanced',\n",
              "           criterion='gini', max_depth=None, max_features=None,\n",
              "           max_leaf_nodes=None, min_impurity_decrease=0.0,\n",
              "           min_impurity_split=None, min_samples_leaf=4,\n",
              "           min_samples_split=8, min_weig...pha=0.02,\n",
              "       reg_lambda=1, scale_pos_weight=0.9, seed=None, silent=True,\n",
              "       subsample=1.0))],\n",
              "         flatten_transform=True, n_jobs=1, voting='soft', weights=None)"
            ]
          },
          "metadata": {
            "tags": []
          },
          "execution_count": 25
        }
      ]
    },
    {
      "metadata": {
        "id": "a_-5Ggkm6DJu",
        "colab_type": "code",
        "colab": {}
      },
      "cell_type": "code",
      "source": [
        "submit_file(model,test,test_id)"
      ],
      "execution_count": 0,
      "outputs": []
    }
  ]
}