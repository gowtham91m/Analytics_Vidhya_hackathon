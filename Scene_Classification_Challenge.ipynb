{
  "nbformat": 4,
  "nbformat_minor": 0,
  "metadata": {
    "colab": {
      "name": "Scene Classification Challenge.ipynb",
      "version": "0.3.2",
      "provenance": [],
      "collapsed_sections": [],
      "include_colab_link": true
    },
    "kernelspec": {
      "name": "python3",
      "display_name": "Python 3"
    },
    "accelerator": "GPU"
  },
  "cells": [
    {
      "cell_type": "markdown",
      "metadata": {
        "id": "view-in-github",
        "colab_type": "text"
      },
      "source": [
        "<a href=\"https://colab.research.google.com/github/gowtham91m/Analytics_Vidhya_hackathon/blob/master/Scene_Classification_Challenge.ipynb\" target=\"_parent\"><img src=\"https://colab.research.google.com/assets/colab-badge.svg\" alt=\"Open In Colab\"/></a>"
      ]
    },
    {
      "metadata": {
        "id": "iXlUYz_avT9y",
        "colab_type": "text"
      },
      "cell_type": "markdown",
      "source": [
        "##Problem Statement\n",
        "How do we, humans, recognize a forest as a forest or a mountain as a mountain? We are very good at categorizing scenes based on the semantic representation and object affinity, but we know very little about the processing and encoding of natural scene categories in the human brain. In this practice problem, you are provided with a dataset of ~25k images from a wide range of natural scenes from all around the world. Your task is to identify which natural scene can the image be categorized into.\n",
        "\n",
        "DATASET DESCRIPTION\n",
        "There are 17034 images in train and 7301 images in test data.\n",
        "The categories of natural scenes and their corresponding labels in the dataset are as follows -\n",
        "\n",
        "{     'buildings' -> 0,     'forest' -> 1,     'glacier' -> 2,     'mountain' -> 3,     'sea' -> 4,     'street' -> 5 }\n",
        "\n",
        "###EVALUATION METRIC\n",
        "The Evaluation metric for this competition is accuracy."
      ]
    },
    {
      "metadata": {
        "id": "fhyn792pxJbU",
        "colab_type": "code",
        "outputId": "b2b7d374-c442-4261-ed9e-ffc99258244b",
        "colab": {
          "base_uri": "https://localhost:8080/",
          "height": 34
        }
      },
      "cell_type": "code",
      "source": [
        "import os,shutil\n",
        "import pandas as pd\n",
        "import numpy as np\n",
        "import keras\n",
        "from keras import layers,models,optimizers\n",
        "from keras.models import Sequential, Model\n",
        "from keras.layers import Dense, Dropout, Activation, Flatten, BatchNormalization, Conv2D, MaxPool2D, MaxPooling2D\n",
        "from keras.optimizers import SGD, RMSprop, Adam, Adagrad, Adadelta\n",
        "from keras.callbacks import Callback, EarlyStopping, ReduceLROnPlateau, ModelCheckpoint\n",
        "from keras.utils import to_categorical\n",
        "import cv2\n",
        "from PIL import Image\n",
        "from time import time\n",
        "\n",
        "from sklearn.model_selection import train_test_split"
      ],
      "execution_count": 0,
      "outputs": [
        {
          "output_type": "stream",
          "text": [
            "Using TensorFlow backend.\n"
          ],
          "name": "stderr"
        }
      ]
    },
    {
      "metadata": {
        "id": "z7TadBuKxcKs",
        "colab_type": "code",
        "colab": {}
      },
      "cell_type": "code",
      "source": [
        "%%capture\n",
        "!pip install PyDrive\n",
        "from pydrive.auth import GoogleAuth\n",
        "from pydrive.drive import GoogleDrive\n",
        "from google.colab import auth\n",
        "from oauth2client.client import GoogleCredentials\n",
        "root_dir = '/content'\n",
        "\n",
        "auth.authenticate_user()\n",
        "gauth = GoogleAuth()\n",
        "gauth.credentials = GoogleCredentials.get_application_default()\n",
        "drive = GoogleDrive(gauth)"
      ],
      "execution_count": 0,
      "outputs": []
    },
    {
      "metadata": {
        "id": "pccbNi11jaWD",
        "colab_type": "code",
        "colab": {}
      },
      "cell_type": "code",
      "source": [
        "shutil.rmtree(data_dir)"
      ],
      "execution_count": 0,
      "outputs": []
    },
    {
      "metadata": {
        "id": "LYBeISkjyMPe",
        "colab_type": "code",
        "outputId": "8c7a77af-f7e7-49da-871f-39a804ac13d1",
        "colab": {
          "base_uri": "https://localhost:8080/",
          "height": 84
        }
      },
      "cell_type": "code",
      "source": [
        "data_dir = os.path.join(root_dir,'intel')\n",
        "train_path =os.path.join(data_dir,'train/')\n",
        "\n",
        "BATCH_SIZE = 32\n",
        "SEED = 777\n",
        "SHAPE = (250, 250, 3)\n",
        "\n",
        "if 'intel' not in os.listdir(root_dir): \n",
        "  os.mkdir(data_dir)\n",
        "  os.chdir(data_dir)\n",
        "  zip_file = drive.CreateFile({'id': '10qN7OUzTutCg8ruwFosml0xzi0elsI5N'})\n",
        "  zip_file.GetContentFile('train.zip')\n",
        "  !unzip -q -o train.zip\n",
        "\n",
        "  test_file = drive.CreateFile({'id': '1vXXq-oSfLtjxhHClcE7593bU4FV-tGVj'})\n",
        "  test_file.GetContentFile('test.csv')\n",
        "  \n",
        "  sample_submission = test_file = drive.CreateFile({'id': '1UnfGdFbKC6oB6J3SYX5TjaW7fyQ3whqN'})\n",
        "  sample_submission.GetContentFile('sample_submission.csv')\n",
        "  \n",
        "train = pd.read_csv('train.csv')\n",
        "test = pd.read_csv('test.csv')\n",
        "sample_submission = pd.read_csv('sample_submission.csv')\n",
        "\n",
        "print(train.shape)\n",
        "print(test.shape)\n",
        "print(sample_submission.shape)\n",
        "print('count of distinct target values - ',train.label.nunique())\n",
        "\n",
        "# Train test split\n",
        "X_train, X_val, y_train, y_val = train_test_split(train.image_name,train.label,test_size = 0.3,random_state=3)"
      ],
      "execution_count": 35,
      "outputs": [
        {
          "output_type": "stream",
          "text": [
            "(17034, 2)\n",
            "(7301, 1)\n",
            "(7301, 2)\n",
            "count of distinct target values -  6\n"
          ],
          "name": "stdout"
        }
      ]
    },
    {
      "metadata": {
        "id": "ZqMjEu-IXGBS",
        "colab_type": "code",
        "outputId": "61abe72f-f205-4747-badb-16eb82163000",
        "colab": {
          "base_uri": "https://localhost:8080/",
          "height": 201
        }
      },
      "cell_type": "code",
      "source": [
        "train.head()"
      ],
      "execution_count": 0,
      "outputs": [
        {
          "output_type": "execute_result",
          "data": {
            "text/html": [
              "<div>\n",
              "<style scoped>\n",
              "    .dataframe tbody tr th:only-of-type {\n",
              "        vertical-align: middle;\n",
              "    }\n",
              "\n",
              "    .dataframe tbody tr th {\n",
              "        vertical-align: top;\n",
              "    }\n",
              "\n",
              "    .dataframe thead th {\n",
              "        text-align: right;\n",
              "    }\n",
              "</style>\n",
              "<table border=\"1\" class=\"dataframe\">\n",
              "  <thead>\n",
              "    <tr style=\"text-align: right;\">\n",
              "      <th></th>\n",
              "      <th>image_name</th>\n",
              "      <th>label</th>\n",
              "    </tr>\n",
              "  </thead>\n",
              "  <tbody>\n",
              "    <tr>\n",
              "      <th>0</th>\n",
              "      <td>0.jpg</td>\n",
              "      <td>0</td>\n",
              "    </tr>\n",
              "    <tr>\n",
              "      <th>1</th>\n",
              "      <td>1.jpg</td>\n",
              "      <td>4</td>\n",
              "    </tr>\n",
              "    <tr>\n",
              "      <th>2</th>\n",
              "      <td>2.jpg</td>\n",
              "      <td>5</td>\n",
              "    </tr>\n",
              "    <tr>\n",
              "      <th>3</th>\n",
              "      <td>4.jpg</td>\n",
              "      <td>0</td>\n",
              "    </tr>\n",
              "    <tr>\n",
              "      <th>4</th>\n",
              "      <td>7.jpg</td>\n",
              "      <td>4</td>\n",
              "    </tr>\n",
              "  </tbody>\n",
              "</table>\n",
              "</div>"
            ],
            "text/plain": [
              "  image_name  label\n",
              "0      0.jpg      0\n",
              "1      1.jpg      4\n",
              "2      2.jpg      5\n",
              "3      4.jpg      0\n",
              "4      7.jpg      4"
            ]
          },
          "metadata": {
            "tags": []
          },
          "execution_count": 6
        }
      ]
    },
    {
      "metadata": {
        "id": "EUQSe3j5Dczz",
        "colab_type": "code",
        "outputId": "cff26e8f-f240-42a0-c72f-2d5474364509",
        "colab": {
          "base_uri": "https://localhost:8080/",
          "height": 34
        }
      },
      "cell_type": "code",
      "source": [
        "im_path = os.path.join(train_path,os.listdir(train_path)[4])\n",
        "img = cv2.imread(im_path)\n",
        "img.shape"
      ],
      "execution_count": 0,
      "outputs": [
        {
          "output_type": "execute_result",
          "data": {
            "text/plain": [
              "(150, 150, 3)"
            ]
          },
          "metadata": {
            "tags": []
          },
          "execution_count": 7
        }
      ]
    },
    {
      "metadata": {
        "id": "WNyZjXtjUDur",
        "colab_type": "code",
        "outputId": "0f555efb-f779-4ba2-de08-8968c015398a",
        "colab": {
          "base_uri": "https://localhost:8080/",
          "height": 167
        }
      },
      "cell_type": "code",
      "source": [
        "Image.open(train_path+'0.jpg')\n",
        "# label 0 -> building"
      ],
      "execution_count": 0,
      "outputs": [
        {
          "output_type": "execute_result",
          "data": {
            "image/png": "[encoded data removed]",
            "text/plain": [
              "<PIL.JpegImagePlugin.JpegImageFile image mode=RGB size=150x150 at 0x7F78820D52E8>"
            ]
          },
          "metadata": {
            "tags": []
          },
          "execution_count": 8
        }
      ]
    },
    {
      "metadata": {
        "id": "dIpEhhuLeoSf",
        "colab_type": "code",
        "colab": {}
      },
      "cell_type": "code",
      "source": [
        "class DataGenerator(keras.utils.Sequence):\n",
        "  def __init__(self, paths, labels, batch_size, shape, shuffle = False, use_cache = False, augument = False):\n",
        "    self.paths, self.labels = paths, labels\n",
        "    self.batch_size = batch_size\n",
        "    self.shape = shape\n",
        "    self.shuffle = shuffle\n",
        "    self.use_cache = use_cache\n",
        "    self.augument = augument\n",
        "    if use_cache == True:\n",
        "      self.cache = np.zeros((paths.shape[0], shape[0], shape[1], shape[2]), dtype=np.float16)\n",
        "      self.is_cached = np.zeros((paths.shape[0]))\n",
        "    self.on_epoch_end()\n",
        "    \n",
        "  def __len__(self):\n",
        "    return int(np.ceil(len(self.paths)/ float(self.batch_size)))\n",
        "    \n",
        "  \n",
        "  def __getitem__(self,idx):\n",
        "    indexes = self.indexes[idx * self.batch_size : (idx+1)* self.batch_size]\n",
        "    paths = np.array(self.paths)[indexes]\n",
        "    X = np.zeros((paths.shape[0], self.shape[0], self.shape[1], self.shape[2]))\n",
        "    \n",
        "    if self.use_cache == True:\n",
        "          X = self.cache[indexes]\n",
        "          for i, path in enumerate(paths[np.where(self.is_cached[indexes] == 0)]):\n",
        "              image = self.__load_image(path)\n",
        "              self.is_cached[indexes[i]] = 1\n",
        "              self.cache[indexes[i]] = image\n",
        "              X[i] = image\n",
        "    else:\n",
        "        for i, path in enumerate(paths):\n",
        "            X[i] = self.__load_image(path)\n",
        "\n",
        "    y = self.labels[indexes]\n",
        "    \n",
        "    return X, y\n",
        "\n",
        "  def on_epoch_end(self):\n",
        "        \n",
        "    # Updates indexes after each epoch\n",
        "    self.indexes = np.arange(len(self.paths))\n",
        "    if self.shuffle == True:\n",
        "        np.random.shuffle(self.indexes)\n",
        "        \n",
        "  def __iter__(self):\n",
        "    \"\"\"Create a generator that iterate over the Sequence.\"\"\"\n",
        "    for item in (self[i] for i in range(len(self))):\n",
        "        yield item\n",
        "\n",
        "  def __load_image(self, path):\n",
        "    im = cv2.imread(path)\n",
        "    im = cv2.resize(im, (SHAPE[0], SHAPE[1]))\n",
        "    im = np.divide(im, 255)\n",
        "    return im\n",
        "  \n",
        "def getDataset(id,label):\n",
        "    paths = [train_path+i for i in id.values]\n",
        "    labels = to_categorical(label,num_classes = 6)\n",
        "    return paths, labels\n",
        " \n",
        "train_paths, train_labels = getDataset(X_train,y_train)\n",
        "train_generator = DataGenerator(train_paths, train_labels, BATCH_SIZE, SHAPE)\n",
        "\n",
        "val_paths, val_labels = getDataset(X_val,y_val)\n",
        "val_generator = DataGenerator(val_paths, val_labels, BATCH_SIZE, SHAPE)\n",
        "\n",
        "lbl = np.zeros(len(test))\n",
        "test_paths, test_labels = getDataset(test.image_name, lbl)\n",
        "test_generator = DataGenerator(test_paths, test_labels, BATCH_SIZE, SHAPE)"
      ],
      "execution_count": 0,
      "outputs": []
    },
    {
      "metadata": {
        "id": "SO4kdN2NqR9k",
        "colab_type": "code",
        "colab": {
          "base_uri": "https://localhost:8080/",
          "height": 371
        },
        "outputId": "73751b82-1a30-45ea-d8b6-060d56ce43a4"
      },
      "cell_type": "code",
      "source": [
        "count = 0\n",
        "for i in train_generator:\n",
        "  print(i[0].shape,i[1].shape)\n",
        "  count+=1\n",
        "  if count>20:break"
      ],
      "execution_count": 37,
      "outputs": [
        {
          "output_type": "stream",
          "text": [
            "(32, 250, 250, 3) (32, 6)\n",
            "(32, 250, 250, 3) (32, 6)\n",
            "(32, 250, 250, 3) (32, 6)\n",
            "(32, 250, 250, 3) (32, 6)\n",
            "(32, 250, 250, 3) (32, 6)\n",
            "(32, 250, 250, 3) (32, 6)\n",
            "(32, 250, 250, 3) (32, 6)\n",
            "(32, 250, 250, 3) (32, 6)\n",
            "(32, 250, 250, 3) (32, 6)\n",
            "(32, 250, 250, 3) (32, 6)\n",
            "(32, 250, 250, 3) (32, 6)\n",
            "(32, 250, 250, 3) (32, 6)\n",
            "(32, 250, 250, 3) (32, 6)\n",
            "(32, 250, 250, 3) (32, 6)\n",
            "(32, 250, 250, 3) (32, 6)\n",
            "(32, 250, 250, 3) (32, 6)\n",
            "(32, 250, 250, 3) (32, 6)\n",
            "(32, 250, 250, 3) (32, 6)\n",
            "(32, 250, 250, 3) (32, 6)\n",
            "(32, 250, 250, 3) (32, 6)\n",
            "(32, 250, 250, 3) (32, 6)\n"
          ],
          "name": "stdout"
        }
      ]
    },
    {
      "metadata": {
        "id": "Z7HaWg8tWK4S",
        "colab_type": "text"
      },
      "cell_type": "markdown",
      "source": [
        "# CNN Classifier"
      ]
    },
    {
      "metadata": {
        "id": "1j4TCNQYaYGA",
        "colab_type": "code",
        "outputId": "843e4908-3a0a-44a3-a670-bab7482430ee",
        "colab": {
          "base_uri": "https://localhost:8080/",
          "height": 759
        }
      },
      "cell_type": "code",
      "source": [
        "model = Sequential()\n",
        "model.add(Conv2D(128, (3, 3), input_shape=( 100, 100, 3)))\n",
        "model.add(Activation('relu'))\n",
        "#model.add(BatchNormalization(axis=-1))\n",
        "#model.add(MaxPooling2D(pool_size=(2,2)))\n",
        "\n",
        "model.add(Conv2D(64, (3, 3)))\n",
        "model.add(Activation('relu'))\n",
        "#model.add(MaxPooling2D(pool_size=(2, 2)))\n",
        "\n",
        "model.add(Conv2D(64, (3, 3)))\n",
        "model.add(Activation('relu'))\n",
        "model.add(MaxPooling2D(pool_size=(2, 2)))\n",
        "\n",
        "model.add(Conv2D(64, (3, 3)))\n",
        "model.add(Activation('relu'))\n",
        "model.add(MaxPooling2D(pool_size=(2, 2)))\n",
        "\n",
        "model.add(Flatten())  # this converts our 3D feature maps to 1D feature vectors\n",
        "model.add(Dense(32))\n",
        "model.add(Activation('relu'))\n",
        "model.add(Dropout(0.5))\n",
        "model.add(Dense(6))\n",
        "model.add(Activation('sigmoid'))\n",
        "#model.add(Activation('softmax'))\n",
        "\n",
        "model.compile(loss='binary_crossentropy',\n",
        "              optimizer=Adam(0.001),\n",
        "              metrics=['accuracy'])\n",
        "\n",
        "reduceLROnPlato = ReduceLROnPlateau(monitor='val_loss', factor=0.1, patience=3, verbose=1, mode='min')\n",
        "earlyStopping = EarlyStopping(monitor='val_loss', min_delta=0.001, patience=8, verbose=1, mode='auto', restore_best_weights=True)\n",
        "\n",
        "# Train model on dataset\n",
        "start_time = time()\n",
        "model.fit_generator(generator=train_generator,\n",
        "                    validation_data=val_generator,\n",
        "                    use_multiprocessing=True,\n",
        "                    epochs=50,\n",
        "                    workers=6,\n",
        "                   callbacks=[reduceLROnPlato, earlyStopping])\n",
        "print(time()-start_time)\n"
      ],
      "execution_count": 0,
      "outputs": [
        {
          "output_type": "stream",
          "text": [
            "Epoch 1/50\n",
            "372/373 [============================>.] - ETA: 0s - loss: 0.3973 - acc: 0.8314Epoch 1/50\n",
            "373/373 [==============================] - 63s 169ms/step - loss: 0.3972 - acc: 0.8314 - val_loss: 0.2811 - val_acc: 0.8731\n",
            "Epoch 2/50\n",
            "373/373 [==============================] - 61s 163ms/step - loss: 0.3278 - acc: 0.8597 - val_loss: 0.2497 - val_acc: 0.8858\n",
            "Epoch 3/50\n",
            "373/373 [==============================] - 61s 163ms/step - loss: 0.3025 - acc: 0.8689 - val_loss: 0.2551 - val_acc: 0.8882\n",
            "Epoch 4/50\n",
            "373/373 [==============================] - 61s 165ms/step - loss: 0.2712 - acc: 0.8809 - val_loss: 0.2054 - val_acc: 0.9117\n",
            "Epoch 5/50\n",
            "373/373 [==============================] - 62s 166ms/step - loss: 0.2543 - acc: 0.8911 - val_loss: 0.2041 - val_acc: 0.9137\n",
            "Epoch 6/50\n",
            "373/373 [==============================] - 62s 165ms/step - loss: 0.2356 - acc: 0.9003 - val_loss: 0.1895 - val_acc: 0.9249\n",
            "Epoch 7/50\n",
            "373/373 [==============================] - 61s 164ms/step - loss: 0.2194 - acc: 0.9060 - val_loss: 0.1999 - val_acc: 0.9202\n",
            "Epoch 8/50\n",
            "373/373 [==============================] - 61s 164ms/step - loss: 0.2025 - acc: 0.9142 - val_loss: 0.1794 - val_acc: 0.9286\n",
            "Epoch 9/50\n",
            "373/373 [==============================] - 61s 164ms/step - loss: 0.1864 - acc: 0.9210 - val_loss: 0.1813 - val_acc: 0.9311\n",
            "Epoch 10/50\n",
            "373/373 [==============================] - 61s 164ms/step - loss: 0.1743 - acc: 0.9279 - val_loss: 0.1796 - val_acc: 0.9322\n",
            "Epoch 11/50\n",
            "373/373 [==============================] - 62s 166ms/step - loss: 0.1652 - acc: 0.9303 - val_loss: 0.1753 - val_acc: 0.9363\n",
            "Epoch 12/50\n",
            "373/373 [==============================] - 61s 164ms/step - loss: 0.1556 - acc: 0.9342 - val_loss: 0.1840 - val_acc: 0.9379\n",
            "Epoch 13/50\n",
            "373/373 [==============================] - 61s 164ms/step - loss: 0.1508 - acc: 0.9357 - val_loss: 0.1816 - val_acc: 0.9353\n",
            "Epoch 14/50\n",
            "373/373 [==============================] - 61s 164ms/step - loss: 0.1455 - acc: 0.9383 - val_loss: 0.1855 - val_acc: 0.9363\n",
            "\n",
            "Epoch 00014: ReduceLROnPlateau reducing learning rate to 0.00010000000474974513.\n",
            "Epoch 15/50\n",
            "373/373 [==============================] - 62s 165ms/step - loss: 0.1278 - acc: 0.9453 - val_loss: 0.1843 - val_acc: 0.9409\n",
            "Epoch 16/50\n",
            "373/373 [==============================] - 62s 165ms/step - loss: 0.1225 - acc: 0.9476 - val_loss: 0.1892 - val_acc: 0.9409\n",
            "Epoch 17/50\n",
            "373/373 [==============================] - 61s 163ms/step - loss: 0.1229 - acc: 0.9478 - val_loss: 0.1915 - val_acc: 0.9412\n",
            "\n",
            "Epoch 00017: ReduceLROnPlateau reducing learning rate to 1.0000000474974514e-05.\n",
            "Epoch 18/50\n",
            "373/373 [==============================] - 61s 163ms/step - loss: 0.1169 - acc: 0.9507 - val_loss: 0.1917 - val_acc: 0.9410\n",
            "Epoch 19/50\n",
            "373/373 [==============================] - 61s 164ms/step - loss: 0.1182 - acc: 0.9492 - val_loss: 0.1912 - val_acc: 0.9412\n",
            "1166.45028090477\n"
          ],
          "name": "stdout"
        }
      ]
    },
    {
      "metadata": {
        "id": "5Y8nhOqQGnq9",
        "colab_type": "code",
        "colab": {}
      },
      "cell_type": "code",
      "source": [
        "score = model.predict_generator(test_generator)\n",
        "predicted_class_indices=np.argmax(score,axis=1)\n",
        "sample_submission.label = predicted_class_indices\n",
        "sample_submission.to_csv('submit1104_2.csv',index=False)"
      ],
      "execution_count": 0,
      "outputs": []
    },
    {
      "metadata": {
        "id": "oaIQhQeQ1c6k",
        "colab_type": "code",
        "outputId": "3899523c-c61f-4d78-8b8c-a410393e1279",
        "colab": {
          "base_uri": "https://localhost:8080/",
          "height": 201
        }
      },
      "cell_type": "code",
      "source": [
        "sample_submission.head()"
      ],
      "execution_count": 0,
      "outputs": [
        {
          "output_type": "execute_result",
          "data": {
            "text/html": [
              "<div>\n",
              "<style scoped>\n",
              "    .dataframe tbody tr th:only-of-type {\n",
              "        vertical-align: middle;\n",
              "    }\n",
              "\n",
              "    .dataframe tbody tr th {\n",
              "        vertical-align: top;\n",
              "    }\n",
              "\n",
              "    .dataframe thead th {\n",
              "        text-align: right;\n",
              "    }\n",
              "</style>\n",
              "<table border=\"1\" class=\"dataframe\">\n",
              "  <thead>\n",
              "    <tr style=\"text-align: right;\">\n",
              "      <th></th>\n",
              "      <th>image_name</th>\n",
              "      <th>label</th>\n",
              "    </tr>\n",
              "  </thead>\n",
              "  <tbody>\n",
              "    <tr>\n",
              "      <th>0</th>\n",
              "      <td>3.jpg</td>\n",
              "      <td>5</td>\n",
              "    </tr>\n",
              "    <tr>\n",
              "      <th>1</th>\n",
              "      <td>5.jpg</td>\n",
              "      <td>0</td>\n",
              "    </tr>\n",
              "    <tr>\n",
              "      <th>2</th>\n",
              "      <td>6.jpg</td>\n",
              "      <td>4</td>\n",
              "    </tr>\n",
              "    <tr>\n",
              "      <th>3</th>\n",
              "      <td>11.jpg</td>\n",
              "      <td>2</td>\n",
              "    </tr>\n",
              "    <tr>\n",
              "      <th>4</th>\n",
              "      <td>14.jpg</td>\n",
              "      <td>5</td>\n",
              "    </tr>\n",
              "  </tbody>\n",
              "</table>\n",
              "</div>"
            ],
            "text/plain": [
              "  image_name  label\n",
              "0      3.jpg      5\n",
              "1      5.jpg      0\n",
              "2      6.jpg      4\n",
              "3     11.jpg      2\n",
              "4     14.jpg      5"
            ]
          },
          "metadata": {
            "tags": []
          },
          "execution_count": 74
        }
      ]
    },
    {
      "metadata": {
        "id": "6wAi7Iiv1mZy",
        "colab_type": "code",
        "outputId": "72117831-fb5f-48e1-84f1-4e529a368033",
        "colab": {
          "base_uri": "https://localhost:8080/",
          "height": 167
        }
      },
      "cell_type": "code",
      "source": [
        "Image.open(train_path+'3.jpg')\n",
        "# predicted value - 5 -> street"
      ],
      "execution_count": 0,
      "outputs": [
        {
          "output_type": "execute_result",
          "data": {
            "image/png": "[encoded data removed]",
            "text/plain": [
              "<PIL.JpegImagePlugin.JpegImageFile image mode=RGB size=150x150 at 0x7F9A94343240>"
            ]
          },
          "metadata": {
            "tags": []
          },
          "execution_count": 75
        }
      ]
    },
    {
      "metadata": {
        "id": "ybmoNRBw2F4A",
        "colab_type": "code",
        "colab": {}
      },
      "cell_type": "code",
      "source": [
        "from google.colab import files\n",
        "files.download('submit1104_2.csv')"
      ],
      "execution_count": 0,
      "outputs": []
    },
    {
      "metadata": {
        "id": "BS4gEck1WBW2",
        "colab_type": "code",
        "colab": {}
      },
      "cell_type": "code",
      "source": [
        ""
      ],
      "execution_count": 0,
      "outputs": []
    },
    {
      "metadata": {
        "id": "FEe9DbJFWCtk",
        "colab_type": "text"
      },
      "cell_type": "markdown",
      "source": [
        "#Transfer learning"
      ]
    },
    {
      "metadata": {
        "id": "dFg6cME1WBpl",
        "colab_type": "code",
        "colab": {}
      },
      "cell_type": "code",
      "source": [
        "#BASE_MODEL = 'VGG16'\n",
        "from keras.preprocessing.image import ImageDataGenerator\n",
        "\n",
        "def transfer_learning(BASE_MODEL,BATCH_SIZE=32):\n",
        "  if BASE_MODEL=='VGG16':\n",
        "      from keras.applications.vgg16 import VGG16 as PTModel, preprocess_input\n",
        "  elif BASE_MODEL=='vgg19':\n",
        "      from keras.applications.vgg19 import VGG19 as PTModel, preprocess_input\n",
        "  elif BASE_MODEL=='ResNet50':\n",
        "      from keras.applications.resnet50 import ResNet50 as PTModel, preprocess_input\n",
        "  elif BASE_MODEL=='InceptionV3':\n",
        "      from keras.applications.inception_v3 import InceptionV3 as PTModel, preprocess_input\n",
        "  elif BASE_MODEL=='Xception':\n",
        "      from keras.applications.xception import Xception as PTModel, preprocess_input\n",
        "  elif BASE_MODEL=='DenseNet169': \n",
        "      from keras.applications.densenet import DenseNet169 as PTModel, preprocess_input\n",
        "  elif BASE_MODEL=='DenseNet121':\n",
        "      from keras.applications.densenet import DenseNet121 as PTModel, preprocess_input\n",
        "  else:\n",
        "      raise ValueError('Unknown model: {}'.format(BASE_MODEL))\n",
        "  \n",
        "  import keras\n",
        "  keras.backend.set_learning_phase(1)\n",
        "  \n",
        "  check_point_name = BASE_MODEL + '.model'\n",
        "  model_weights = BASE_MODEL + '.h5'\n",
        "\n",
        "  train_paths, train_labels = getDataset(X_train,y_train)\n",
        "  train_generator = DataGenerator(train_paths, train_labels, BATCH_SIZE, SHAPE)\n",
        "\n",
        "  val_paths, val_labels = getDataset(X_val,y_val)\n",
        "  val_generator = DataGenerator(val_paths, val_labels, BATCH_SIZE, SHAPE)\n",
        "\n",
        "  lbl = np.zeros(len(test))\n",
        "  test_paths, test_labels = getDataset(test.image_name, lbl)\n",
        "  test_generator = DataGenerator(test_paths, test_labels, BATCH_SIZE, SHAPE)\n",
        "\n",
        "  img_rows, img_cols, img_channel = 250, 250, 3\n",
        "  base_model = PTModel(weights='imagenet'\n",
        "                     ,include_top=False, input_shape=(img_rows, img_cols, img_channel), classes = 2)\n",
        "\n",
        "  add_model = Sequential()\n",
        "  add_model.add(Flatten(input_shape=base_model.output_shape[1:]))\n",
        "  add_model.add(Dense(32, activation='relu'))\n",
        "  add_model.add(Dense(6, activation='sigmoid'))\n",
        "\n",
        "  model = Model(inputs=base_model.input, outputs=add_model(base_model.output))\n",
        "\n",
        "\n",
        "#   for layer in base_model.layers:\n",
        "#       layer.trainable = False\n",
        "\n",
        "#       if layer.name.startswith('bn'):\n",
        "#           layer.call(layer.input, training=False)\n",
        "#   model.layers[-1].trainable = True\n",
        "#   model.layers[-2].trainable = True\n",
        "\n",
        "\n",
        "  model.compile(loss='binary_crossentropy', \n",
        "                optimizer=SGD(lr=1e-4, momentum=0.9),\n",
        "                metrics=['accuracy'])\n",
        "  \n",
        "  reduceLROnPlato = ReduceLROnPlateau(monitor='val_loss', factor=0.1, patience=3, verbose=1, mode='min')\n",
        "  earlyStopping = EarlyStopping(monitor='val_loss', min_delta=0.001, patience=8, verbose=1, mode='auto')\n",
        "  checkPoint = ModelCheckpoint(check_point_name, monitor='val_acc', save_best_only=True)\n",
        "  \n",
        "  start_time = time()\n",
        "  model.fit_generator(\n",
        "          train_generator,\n",
        "          epochs=16,\n",
        "          validation_data=val_generator,\n",
        "          #class_weight = class_weights,\n",
        "          callbacks=[reduceLROnPlato, earlyStopping])\n",
        "  model.save_weights(model_weights)\n",
        "\n",
        "  print('time taken ',(time()-start_time)/60,'min')\n",
        "  return model"
      ],
      "execution_count": 0,
      "outputs": []
    },
    {
      "metadata": {
        "id": "grNXbw1KX6n-",
        "colab_type": "code",
        "outputId": "75df84fa-3994-438a-db81-f287cf667eef",
        "colab": {
          "base_uri": "https://localhost:8080/",
          "height": 574
        }
      },
      "cell_type": "code",
      "source": [
        "# train last layer\n",
        "trans_model = transfer_learning('VGG16')"
      ],
      "execution_count": 0,
      "outputs": [
        {
          "output_type": "stream",
          "text": [
            "Epoch 1/16\n",
            "373/373 [==============================] - 47s 125ms/step - loss: 0.4980 - acc: 0.7952 - val_loss: 0.4347 - val_acc: 0.8334\n",
            "Epoch 2/16\n",
            "373/373 [==============================] - 45s 122ms/step - loss: 0.4193 - acc: 0.8334 - val_loss: 0.4077 - val_acc: 0.8335\n",
            "Epoch 3/16\n",
            "373/373 [==============================] - 45s 122ms/step - loss: 0.3971 - acc: 0.8340 - val_loss: 0.3882 - val_acc: 0.8349\n",
            "Epoch 4/16\n",
            "373/373 [==============================] - 45s 122ms/step - loss: 0.3790 - acc: 0.8358 - val_loss: 0.3716 - val_acc: 0.8383\n",
            "Epoch 5/16\n",
            "373/373 [==============================] - 45s 122ms/step - loss: 0.3635 - acc: 0.8388 - val_loss: 0.3567 - val_acc: 0.8416\n",
            "Epoch 6/16\n",
            "373/373 [==============================] - 45s 122ms/step - loss: 0.3495 - acc: 0.8424 - val_loss: 0.3431 - val_acc: 0.8452\n",
            "Epoch 7/16\n",
            "373/373 [==============================] - 45s 122ms/step - loss: 0.3364 - acc: 0.8461 - val_loss: 0.3306 - val_acc: 0.8482\n",
            "Epoch 8/16\n",
            "373/373 [==============================] - 45s 122ms/step - loss: 0.3242 - acc: 0.8498 - val_loss: 0.3186 - val_acc: 0.8524\n",
            "Epoch 9/16\n",
            "373/373 [==============================] - 45s 122ms/step - loss: 0.3129 - acc: 0.8534 - val_loss: 0.3075 - val_acc: 0.8559\n",
            "Epoch 10/16\n",
            "373/373 [==============================] - 45s 122ms/step - loss: 0.3023 - acc: 0.8572 - val_loss: 0.2973 - val_acc: 0.8600\n",
            "Epoch 11/16\n",
            "373/373 [==============================] - 45s 122ms/step - loss: 0.2926 - acc: 0.8619 - val_loss: 0.2881 - val_acc: 0.8647\n",
            "Epoch 12/16\n",
            "373/373 [==============================] - 45s 121ms/step - loss: 0.2837 - acc: 0.8676 - val_loss: 0.2795 - val_acc: 0.8710\n",
            "Epoch 13/16\n",
            "373/373 [==============================] - 45s 121ms/step - loss: 0.2756 - acc: 0.8737 - val_loss: 0.2717 - val_acc: 0.8762\n",
            "Epoch 14/16\n",
            "373/373 [==============================] - 46s 123ms/step - loss: 0.2682 - acc: 0.8791 - val_loss: 0.2647 - val_acc: 0.8813\n",
            "Epoch 15/16\n",
            "373/373 [==============================] - 46s 124ms/step - loss: 0.2614 - acc: 0.8846 - val_loss: 0.2581 - val_acc: 0.8871\n",
            "Epoch 16/16\n",
            "373/373 [==============================] - 46s 123ms/step - loss: 0.2550 - acc: 0.8892 - val_loss: 0.2520 - val_acc: 0.8918\n",
            "time taken  730.5003731250763\n"
          ],
          "name": "stdout"
        }
      ]
    },
    {
      "metadata": {
        "id": "MA1euq-_aWUV",
        "colab_type": "code",
        "outputId": "bbb1cb07-ef4e-4753-cd8e-ab717dcf5389",
        "colab": {
          "base_uri": "https://localhost:8080/",
          "height": 574
        }
      },
      "cell_type": "code",
      "source": [
        "# train all layers of VGG16 model\n",
        "trans_model = transfer_learning('VGG16')"
      ],
      "execution_count": 30,
      "outputs": [
        {
          "output_type": "stream",
          "text": [
            "Epoch 1/16\n",
            "373/373 [==============================] - 99s 265ms/step - loss: 0.4133 - acc: 0.8211 - val_loss: 0.2350 - val_acc: 0.9038\n",
            "Epoch 2/16\n",
            "373/373 [==============================] - 97s 260ms/step - loss: 0.1795 - acc: 0.9293 - val_loss: 0.1516 - val_acc: 0.9424\n",
            "Epoch 3/16\n",
            "373/373 [==============================] - 97s 260ms/step - loss: 0.1345 - acc: 0.9493 - val_loss: 0.1318 - val_acc: 0.9497\n",
            "Epoch 4/16\n",
            "373/373 [==============================] - 97s 260ms/step - loss: 0.1163 - acc: 0.9561 - val_loss: 0.1195 - val_acc: 0.9544\n",
            "Epoch 5/16\n",
            "373/373 [==============================] - 98s 262ms/step - loss: 0.1056 - acc: 0.9601 - val_loss: 0.1121 - val_acc: 0.9573\n",
            "Epoch 6/16\n",
            "373/373 [==============================] - 98s 262ms/step - loss: 0.0972 - acc: 0.9632 - val_loss: 0.1096 - val_acc: 0.9584\n",
            "Epoch 7/16\n",
            "373/373 [==============================] - 98s 263ms/step - loss: 0.0898 - acc: 0.9669 - val_loss: 0.1029 - val_acc: 0.9616\n",
            "Epoch 8/16\n",
            "373/373 [==============================] - 98s 262ms/step - loss: 0.0837 - acc: 0.9691 - val_loss: 0.1046 - val_acc: 0.9600\n",
            "Epoch 9/16\n",
            "373/373 [==============================] - 98s 262ms/step - loss: 0.0789 - acc: 0.9707 - val_loss: 0.0986 - val_acc: 0.9633\n",
            "Epoch 10/16\n",
            "373/373 [==============================] - 98s 262ms/step - loss: 0.0754 - acc: 0.9722 - val_loss: 0.0992 - val_acc: 0.9631\n",
            "Epoch 11/16\n",
            "373/373 [==============================] - 97s 261ms/step - loss: 0.0709 - acc: 0.9734 - val_loss: 0.0943 - val_acc: 0.9652\n",
            "Epoch 12/16\n",
            "373/373 [==============================] - 97s 261ms/step - loss: 0.0673 - acc: 0.9750 - val_loss: 0.0953 - val_acc: 0.9644\n",
            "Epoch 13/16\n",
            "373/373 [==============================] - 98s 262ms/step - loss: 0.0642 - acc: 0.9766 - val_loss: 0.0945 - val_acc: 0.9643\n",
            "Epoch 14/16\n",
            "373/373 [==============================] - 98s 261ms/step - loss: 0.0613 - acc: 0.9776 - val_loss: 0.0940 - val_acc: 0.9649\n",
            "Epoch 15/16\n",
            "373/373 [==============================] - 98s 262ms/step - loss: 0.0583 - acc: 0.9783 - val_loss: 0.0907 - val_acc: 0.9668\n",
            "Epoch 16/16\n",
            "373/373 [==============================] - 98s 262ms/step - loss: 0.0549 - acc: 0.9804 - val_loss: 0.0916 - val_acc: 0.9663\n",
            "time taken  26.066204357147218 min\n"
          ],
          "name": "stdout"
        }
      ]
    },
    {
      "metadata": {
        "id": "csXSt_7bigB5",
        "colab_type": "code",
        "colab": {}
      },
      "cell_type": "code",
      "source": [
        "score = trans_model.predict_generator(test_generator)\n",
        "predicted_class_indices=np.argmax(score,axis=1)\n",
        "sample_submission.label = predicted_class_indices\n",
        "sample_submission.to_csv('submit1104_3.csv',index=False)"
      ],
      "execution_count": 0,
      "outputs": []
    },
    {
      "metadata": {
        "id": "_mU55hu0isqk",
        "colab_type": "code",
        "colab": {}
      },
      "cell_type": "code",
      "source": [
        "from google.colab import files\n",
        "files.download('submit1104_3.csv')"
      ],
      "execution_count": 0,
      "outputs": []
    },
    {
      "metadata": {
        "id": "ApEaIb0xiz6R",
        "colab_type": "code",
        "colab": {
          "base_uri": "https://localhost:8080/",
          "height": 658
        },
        "outputId": "e8726487-7233-45f3-80e6-da5ec509b52b"
      },
      "cell_type": "code",
      "source": [
        "# train all layers of VGG16 model\n",
        "densnet_model = transfer_learning('DenseNet169')"
      ],
      "execution_count": 41,
      "outputs": [
        {
          "output_type": "stream",
          "text": [
            "Epoch 1/16\n",
            "373/373 [==============================] - 490s 1s/step - loss: 0.2892 - acc: 0.8710 - val_loss: 0.1486 - val_acc: 0.9452\n",
            "Epoch 2/16\n",
            "373/373 [==============================] - 455s 1s/step - loss: 0.1137 - acc: 0.9593 - val_loss: 0.1149 - val_acc: 0.9581\n",
            "Epoch 3/16\n",
            "373/373 [==============================] - 455s 1s/step - loss: 0.0820 - acc: 0.9718 - val_loss: 0.1031 - val_acc: 0.9635\n",
            "Epoch 4/16\n",
            "373/373 [==============================] - 455s 1s/step - loss: 0.0646 - acc: 0.9788 - val_loss: 0.0980 - val_acc: 0.9648\n",
            "Epoch 5/16\n",
            "373/373 [==============================] - 454s 1s/step - loss: 0.0529 - acc: 0.9837 - val_loss: 0.0948 - val_acc: 0.9663\n",
            "Epoch 6/16\n",
            "373/373 [==============================] - 455s 1s/step - loss: 0.0438 - acc: 0.9877 - val_loss: 0.0933 - val_acc: 0.9664\n",
            "Epoch 7/16\n",
            "373/373 [==============================] - 455s 1s/step - loss: 0.0368 - acc: 0.9908 - val_loss: 0.0922 - val_acc: 0.9675\n",
            "Epoch 8/16\n",
            "373/373 [==============================] - 455s 1s/step - loss: 0.0312 - acc: 0.9932 - val_loss: 0.0911 - val_acc: 0.9674\n",
            "Epoch 9/16\n",
            "373/373 [==============================] - 455s 1s/step - loss: 0.0266 - acc: 0.9948 - val_loss: 0.0906 - val_acc: 0.9680\n",
            "Epoch 10/16\n",
            "373/373 [==============================] - 454s 1s/step - loss: 0.0229 - acc: 0.9961 - val_loss: 0.0907 - val_acc: 0.9682\n",
            "Epoch 11/16\n",
            "373/373 [==============================] - 455s 1s/step - loss: 0.0199 - acc: 0.9971 - val_loss: 0.0908 - val_acc: 0.9683\n",
            "Epoch 12/16\n",
            "373/373 [==============================] - 455s 1s/step - loss: 0.0174 - acc: 0.9978 - val_loss: 0.0907 - val_acc: 0.9690\n",
            "\n",
            "Epoch 00012: ReduceLROnPlateau reducing learning rate to 9.999999747378752e-06.\n",
            "Epoch 13/16\n",
            "373/373 [==============================] - 455s 1s/step - loss: 0.0152 - acc: 0.9985 - val_loss: 0.0907 - val_acc: 0.9689\n",
            "Epoch 14/16\n",
            "373/373 [==============================] - 455s 1s/step - loss: 0.0150 - acc: 0.9986 - val_loss: 0.0907 - val_acc: 0.9691\n",
            "Epoch 15/16\n",
            "373/373 [==============================] - 455s 1s/step - loss: 0.0148 - acc: 0.9986 - val_loss: 0.0907 - val_acc: 0.9692\n",
            "\n",
            "Epoch 00015: ReduceLROnPlateau reducing learning rate to 9.999999747378752e-07.\n",
            "Epoch 16/16\n",
            "373/373 [==============================] - 455s 1s/step - loss: 0.0146 - acc: 0.9986 - val_loss: 0.0908 - val_acc: 0.9691\n",
            "Epoch 00016: early stopping\n",
            "time taken  126.776802221934 min\n"
          ],
          "name": "stdout"
        }
      ]
    },
    {
      "metadata": {
        "id": "5slrqowLIMuu",
        "colab_type": "code",
        "colab": {}
      },
      "cell_type": "code",
      "source": [
        "score = densnet_model.predict_generator(test_generator)\n",
        "predicted_class_indices=np.argmax(score,axis=1)\n",
        "sample_submission.label = predicted_class_indices\n",
        "sample_submission.to_csv('submit1104_4.csv',index=False)\n",
        "from google.colab import files\n",
        "files.download('submit1104_4.csv')"
      ],
      "execution_count": 0,
      "outputs": []
    },
    {
      "metadata": {
        "id": "nRUWAI1gJIvv",
        "colab_type": "code",
        "colab": {}
      },
      "cell_type": "code",
      "source": [
        "from google.colab import files\n",
        "files.download('submit1104_3.csv')"
      ],
      "execution_count": 0,
      "outputs": []
    }
  ]
}