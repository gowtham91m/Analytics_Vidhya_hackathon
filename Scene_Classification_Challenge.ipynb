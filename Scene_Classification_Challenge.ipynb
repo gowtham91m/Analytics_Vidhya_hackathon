{
  "nbformat": 4,
  "nbformat_minor": 0,
  "metadata": {
    "colab": {
      "name": "Scene Classification Challenge.ipynb",
      "version": "0.3.2",
      "provenance": [],
      "collapsed_sections": [],
      "include_colab_link": true
    },
    "kernelspec": {
      "name": "python3",
      "display_name": "Python 3"
    },
    "accelerator": "GPU"
  },
  "cells": [
    {
      "cell_type": "markdown",
      "metadata": {
        "id": "view-in-github",
        "colab_type": "text"
      },
      "source": [
        "<a href=\"https://colab.research.google.com/github/gowtham91m/Analytics_Vidhya_hackathon/blob/master/Scene_Classification_Challenge.ipynb\" target=\"_parent\"><img src=\"https://colab.research.google.com/assets/colab-badge.svg\" alt=\"Open In Colab\"/></a>"
      ]
    },
    {
      "metadata": {
        "id": "iXlUYz_avT9y",
        "colab_type": "text"
      },
      "cell_type": "markdown",
      "source": [
        "##Problem Statement\n",
        "How do we, humans, recognize a forest as a forest or a mountain as a mountain? We are very good at categorizing scenes based on the semantic representation and object affinity, but we know very little about the processing and encoding of natural scene categories in the human brain. In this practice problem, you are provided with a dataset of ~25k images from a wide range of natural scenes from all around the world. Your task is to identify which natural scene can the image be categorized into.\n",
        "\n",
        "DATASET DESCRIPTION\n",
        "There are 17034 images in train and 7301 images in test data.\n",
        "The categories of natural scenes and their corresponding labels in the dataset are as follows -\n",
        "\n",
        "{     'buildings' -> 0,     'forest' -> 1,     'glacier' -> 2,     'mountain' -> 3,     'sea' -> 4,     'street' -> 5 }\n",
        "\n",
        "###EVALUATION METRIC\n",
        "The Evaluation metric for this competition is accuracy."
      ]
    },
    {
      "metadata": {
        "id": "TF8c8OVxQsHU",
        "colab_type": "code",
        "colab": {
          "base_uri": "https://localhost:8080/",
          "height": 270
        },
        "outputId": "43b807e4-e30f-49d5-e3be-9d1960a31d6c"
      },
      "cell_type": "code",
      "source": [
        "!pip install imgaug"
      ],
      "execution_count": 1,
      "outputs": [
        {
          "output_type": "stream",
          "text": [
            "Requirement already satisfied: imgaug in /usr/local/lib/python3.6/dist-packages (0.2.6)\n",
            "Requirement already satisfied: numpy>=1.7.0 in /usr/local/lib/python3.6/dist-packages (from imgaug) (1.14.6)\n",
            "Requirement already satisfied: scikit-image>=0.11.0 in /usr/local/lib/python3.6/dist-packages (from imgaug) (0.13.1)\n",
            "Requirement already satisfied: six in /usr/local/lib/python3.6/dist-packages (from imgaug) (1.11.0)\n",
            "Requirement already satisfied: scipy in /usr/local/lib/python3.6/dist-packages (from imgaug) (0.19.1)\n",
            "Requirement already satisfied: matplotlib>=1.3.1 in /usr/local/lib/python3.6/dist-packages (from scikit-image>=0.11.0->imgaug) (2.1.2)\n",
            "Requirement already satisfied: networkx>=1.8 in /usr/local/lib/python3.6/dist-packages (from scikit-image>=0.11.0->imgaug) (2.2)\n",
            "Requirement already satisfied: PyWavelets>=0.4.0 in /usr/local/lib/python3.6/dist-packages (from scikit-image>=0.11.0->imgaug) (1.0.1)\n",
            "Requirement already satisfied: pillow>=2.1.0 in /usr/local/lib/python3.6/dist-packages (from scikit-image>=0.11.0->imgaug) (4.0.0)\n",
            "Requirement already satisfied: python-dateutil>=2.1 in /usr/local/lib/python3.6/dist-packages (from matplotlib>=1.3.1->scikit-image>=0.11.0->imgaug) (2.5.3)\n",
            "Requirement already satisfied: cycler>=0.10 in /usr/local/lib/python3.6/dist-packages (from matplotlib>=1.3.1->scikit-image>=0.11.0->imgaug) (0.10.0)\n",
            "Requirement already satisfied: pytz in /usr/local/lib/python3.6/dist-packages (from matplotlib>=1.3.1->scikit-image>=0.11.0->imgaug) (2018.7)\n",
            "Requirement already satisfied: pyparsing!=2.0.4,!=2.1.2,!=2.1.6,>=2.0.1 in /usr/local/lib/python3.6/dist-packages (from matplotlib>=1.3.1->scikit-image>=0.11.0->imgaug) (2.3.0)\n",
            "Requirement already satisfied: decorator>=4.3.0 in /usr/local/lib/python3.6/dist-packages (from networkx>=1.8->scikit-image>=0.11.0->imgaug) (4.3.0)\n",
            "Requirement already satisfied: olefile in /usr/local/lib/python3.6/dist-packages (from pillow>=2.1.0->scikit-image>=0.11.0->imgaug) (0.46)\n"
          ],
          "name": "stdout"
        }
      ]
    },
    {
      "metadata": {
        "id": "dJgvEuhMiLku",
        "colab_type": "code",
        "colab": {}
      },
      "cell_type": "code",
      "source": [
        "#https://stackoverflow.com/questions/42177658/how-to-switch-backend-with-keras-from-tensorflow-to-theano"
      ],
      "execution_count": 0,
      "outputs": []
    },
    {
      "metadata": {
        "id": "xsZDtOf-vL9R",
        "colab_type": "code",
        "colab": {}
      },
      "cell_type": "code",
      "source": [
        "import os\n",
        "os.environ['floatx'] = 'float16'"
      ],
      "execution_count": 0,
      "outputs": []
    },
    {
      "metadata": {
        "id": "fhyn792pxJbU",
        "colab_type": "code",
        "outputId": "132a78e6-80ad-430c-913e-9c2ea9239813",
        "colab": {
          "base_uri": "https://localhost:8080/",
          "height": 34
        }
      },
      "cell_type": "code",
      "source": [
        "import shutil\n",
        "import pandas as pd\n",
        "import numpy as np\n",
        "import keras\n",
        "from keras import layers,models,optimizers\n",
        "from keras.models import Sequential, Model\n",
        "from keras.layers import Dense, Dropout, Activation, Flatten, BatchNormalization, Conv2D, MaxPool2D, MaxPooling2D\n",
        "from keras.optimizers import SGD, RMSprop, Adam, Adagrad, Adadelta\n",
        "from keras.callbacks import Callback, EarlyStopping, ReduceLROnPlateau, ModelCheckpoint\n",
        "from keras.utils import to_categorical\n",
        "import imgaug as ia\n",
        "from imgaug import augmenters as iaa\n",
        "import cv2\n",
        "from PIL import Image\n",
        "from time import time\n",
        "\n",
        "from sklearn.model_selection import train_test_split"
      ],
      "execution_count": 3,
      "outputs": [
        {
          "output_type": "stream",
          "text": [
            "Using TensorFlow backend.\n"
          ],
          "name": "stderr"
        }
      ]
    },
    {
      "metadata": {
        "id": "z7TadBuKxcKs",
        "colab_type": "code",
        "colab": {}
      },
      "cell_type": "code",
      "source": [
        "%%capture\n",
        "!pip install PyDrive\n",
        "from pydrive.auth import GoogleAuth\n",
        "from pydrive.drive import GoogleDrive\n",
        "from google.colab import auth\n",
        "from oauth2client.client import GoogleCredentials\n",
        "root_dir = '/content'\n",
        "\n",
        "auth.authenticate_user()\n",
        "gauth = GoogleAuth()\n",
        "gauth.credentials = GoogleCredentials.get_application_default()\n",
        "drive = GoogleDrive(gauth)\n",
        "\n",
        "data_dir = os.path.join(root_dir,'intel')\n",
        "train_path =os.path.join(data_dir,'train/')\n",
        "\n",
        "BATCH_SIZE = 32\n",
        "SEED = 777\n",
        "SHAPE = (221, 221, 3)\n"
      ],
      "execution_count": 0,
      "outputs": []
    },
    {
      "metadata": {
        "id": "pccbNi11jaWD",
        "colab_type": "code",
        "colab": {}
      },
      "cell_type": "code",
      "source": [
        "shutil.rmtree(data_dir)"
      ],
      "execution_count": 0,
      "outputs": []
    },
    {
      "metadata": {
        "id": "LYBeISkjyMPe",
        "colab_type": "code",
        "outputId": "e5b1ad35-5999-4af0-85de-3c6204ae2618",
        "colab": {
          "base_uri": "https://localhost:8080/",
          "height": 84
        }
      },
      "cell_type": "code",
      "source": [
        "if 'intel' not in os.listdir(root_dir): \n",
        "  os.mkdir(data_dir)\n",
        "  os.chdir(data_dir)\n",
        "  zip_file = drive.CreateFile({'id': '10qN7OUzTutCg8ruwFosml0xzi0elsI5N'})\n",
        "  zip_file.GetContentFile('train.zip')\n",
        "  !unzip -q -o train.zip\n",
        "\n",
        "  test_file = drive.CreateFile({'id': '1vXXq-oSfLtjxhHClcE7593bU4FV-tGVj'})\n",
        "  test_file.GetContentFile('test.csv')\n",
        "  \n",
        "  sample_submission = test_file = drive.CreateFile({'id': '1UnfGdFbKC6oB6J3SYX5TjaW7fyQ3whqN'})\n",
        "  sample_submission.GetContentFile('sample_submission.csv')\n",
        "  \n",
        "train = pd.read_csv('train.csv')\n",
        "test = pd.read_csv('test.csv')\n",
        "sample_submission = pd.read_csv('sample_submission.csv')\n",
        "\n",
        "print(train.shape)\n",
        "print(test.shape)\n",
        "print(sample_submission.shape)\n",
        "print('count of distinct target values - ',train.label.nunique())\n",
        "\n",
        "# Train test split\n",
        "X_train, X_val, y_train, y_val = train_test_split(train.image_name,train.label,test_size = 0.3,random_state=1)"
      ],
      "execution_count": 10,
      "outputs": [
        {
          "output_type": "stream",
          "text": [
            "(17034, 2)\n",
            "(7301, 1)\n",
            "(7301, 2)\n",
            "count of distinct target values -  6\n"
          ],
          "name": "stdout"
        }
      ]
    },
    {
      "metadata": {
        "id": "ZqMjEu-IXGBS",
        "colab_type": "code",
        "outputId": "15b7056b-772b-4d13-adc8-1185152e26e2",
        "colab": {
          "base_uri": "https://localhost:8080/",
          "height": 201
        }
      },
      "cell_type": "code",
      "source": [
        "train.head()"
      ],
      "execution_count": 11,
      "outputs": [
        {
          "output_type": "execute_result",
          "data": {
            "text/html": [
              "<div>\n",
              "<style scoped>\n",
              "    .dataframe tbody tr th:only-of-type {\n",
              "        vertical-align: middle;\n",
              "    }\n",
              "\n",
              "    .dataframe tbody tr th {\n",
              "        vertical-align: top;\n",
              "    }\n",
              "\n",
              "    .dataframe thead th {\n",
              "        text-align: right;\n",
              "    }\n",
              "</style>\n",
              "<table border=\"1\" class=\"dataframe\">\n",
              "  <thead>\n",
              "    <tr style=\"text-align: right;\">\n",
              "      <th></th>\n",
              "      <th>image_name</th>\n",
              "      <th>label</th>\n",
              "    </tr>\n",
              "  </thead>\n",
              "  <tbody>\n",
              "    <tr>\n",
              "      <th>0</th>\n",
              "      <td>0.jpg</td>\n",
              "      <td>0</td>\n",
              "    </tr>\n",
              "    <tr>\n",
              "      <th>1</th>\n",
              "      <td>1.jpg</td>\n",
              "      <td>4</td>\n",
              "    </tr>\n",
              "    <tr>\n",
              "      <th>2</th>\n",
              "      <td>2.jpg</td>\n",
              "      <td>5</td>\n",
              "    </tr>\n",
              "    <tr>\n",
              "      <th>3</th>\n",
              "      <td>4.jpg</td>\n",
              "      <td>0</td>\n",
              "    </tr>\n",
              "    <tr>\n",
              "      <th>4</th>\n",
              "      <td>7.jpg</td>\n",
              "      <td>4</td>\n",
              "    </tr>\n",
              "  </tbody>\n",
              "</table>\n",
              "</div>"
            ],
            "text/plain": [
              "  image_name  label\n",
              "0      0.jpg      0\n",
              "1      1.jpg      4\n",
              "2      2.jpg      5\n",
              "3      4.jpg      0\n",
              "4      7.jpg      4"
            ]
          },
          "metadata": {
            "tags": []
          },
          "execution_count": 11
        }
      ]
    },
    {
      "metadata": {
        "id": "EUQSe3j5Dczz",
        "colab_type": "code",
        "outputId": "2e504245-637d-4770-8f8a-72d21f55b75b",
        "colab": {
          "base_uri": "https://localhost:8080/",
          "height": 34
        }
      },
      "cell_type": "code",
      "source": [
        "im_path = os.path.join(train_path,os.listdir(train_path)[4])\n",
        "img = cv2.imread(im_path)\n",
        "img.shape"
      ],
      "execution_count": 9,
      "outputs": [
        {
          "output_type": "execute_result",
          "data": {
            "text/plain": [
              "(150, 150, 3)"
            ]
          },
          "metadata": {
            "tags": []
          },
          "execution_count": 9
        }
      ]
    },
    {
      "metadata": {
        "id": "WNyZjXtjUDur",
        "colab_type": "code",
        "outputId": "78ac476b-c251-4e2b-ce72-7dad3132a640",
        "colab": {
          "base_uri": "https://localhost:8080/",
          "height": 167
        }
      },
      "cell_type": "code",
      "source": [
        "Image.open(train_path+'0.jpg')\n",
        "# label 0 -> building"
      ],
      "execution_count": 10,
      "outputs": [
        {
          "output_type": "execute_result",
          "data": {
            "image/png": "[encoded data removed]",
            "text/plain": [
              "<PIL.JpegImagePlugin.JpegImageFile image mode=RGB size=150x150 at 0x7F8D0F5C8128>"
            ]
          },
          "metadata": {
            "tags": []
          },
          "execution_count": 10
        }
      ]
    },
    {
      "metadata": {
        "id": "dIpEhhuLeoSf",
        "colab_type": "code",
        "colab": {}
      },
      "cell_type": "code",
      "source": [
        "class DataGenerator(keras.utils.Sequence):\n",
        "  def __init__(self, paths, labels, batch_size, shape, shuffle = False, use_cache = False, augument = True):\n",
        "    self.paths, self.labels = paths, labels\n",
        "    self.batch_size = batch_size\n",
        "    self.shape = shape\n",
        "    self.shuffle = shuffle\n",
        "    self.use_cache = use_cache\n",
        "    self.augument = augument\n",
        "    if use_cache == True:\n",
        "      self.cache = np.zeros((paths.shape[0], shape[0], shape[1], shape[2]), dtype=np.float16)\n",
        "      self.is_cached = np.zeros((paths.shape[0]))\n",
        "    self.on_epoch_end()\n",
        "    \n",
        "  def __len__(self):\n",
        "    return int(np.ceil(len(self.paths)/ float(self.batch_size)))\n",
        "    \n",
        "  \n",
        "  def __getitem__(self,idx):\n",
        "    indexes = self.indexes[idx * self.batch_size : (idx+1)* self.batch_size]\n",
        "    paths = np.array(self.paths)[indexes]\n",
        "    X = np.zeros((paths.shape[0], self.shape[0], self.shape[1], self.shape[2]))\n",
        "    \n",
        "    if self.use_cache == True:\n",
        "          X = self.cache[indexes]\n",
        "          for i, path in enumerate(paths[np.where(self.is_cached[indexes] == 0)]):\n",
        "              image = self.__load_image(path)\n",
        "              self.is_cached[indexes[i]] = 1\n",
        "              self.cache[indexes[i]] = image\n",
        "              X[i] = image\n",
        "    else:\n",
        "        for i, path in enumerate(paths):\n",
        "            X[i] = self.__load_image(path)\n",
        "\n",
        "    y = self.labels[indexes]\n",
        "    \n",
        "    if self.augument == True:\n",
        "      seq = iaa.Sequential([\n",
        "          iaa.OneOf([\n",
        "              iaa.Fliplr(0.5), # horizontal flips\n",
        "              iaa.Crop(percent=(0, 0.1)), # random crops\n",
        "              # Small gaussian blur with random sigma between 0 and 0.5.\n",
        "              # But we only blur about 50% of all images.\n",
        "              iaa.Sometimes(0.5,\n",
        "                  iaa.GaussianBlur(sigma=(0, 0.5))\n",
        "              ),\n",
        "              # Strengthen or weaken the contrast in each image.\n",
        "              iaa.ContrastNormalization((0.75, 1.5)),\n",
        "              # Add gaussian noise.\n",
        "              # For 50% of all images, we sample the noise once per pixel.\n",
        "              # For the other 50% of all images, we sample the noise per pixel AND\n",
        "              # channel. This can change the color (not only brightness) of the\n",
        "              # pixels.\n",
        "              iaa.AdditiveGaussianNoise(loc=0, scale=(0.0, 0.05*255), per_channel=0.5),\n",
        "              # Make some images brighter and some darker.\n",
        "              # In 20% of all cases, we sample the multiplier once per channel,\n",
        "              # which can end up changing the color of the images.\n",
        "              iaa.Multiply((0.8, 1.2), per_channel=0.2),\n",
        "              # Apply affine transformations to each image.\n",
        "              # Scale/zoom them, translate/move them, rotate them and shear them.\n",
        "              iaa.Affine(\n",
        "                  scale={\"x\": (0.8, 1.2), \"y\": (0.8, 1.2)},\n",
        "                  translate_percent={\"x\": (-0.2, 0.2), \"y\": (-0.2, 0.2)},\n",
        "                  rotate=(-180, 180),\n",
        "                  shear=(-8, 8)\n",
        "              )\n",
        "          ])], random_order=True)\n",
        "      X = np.concatenate((X, seq.augment_images(X), seq.augment_images(X), seq.augment_images(X)), 0)\n",
        "      y = np.concatenate((y, y, y, y), 0)\n",
        "    \n",
        "    return X, y\n",
        "\n",
        "  def on_epoch_end(self):\n",
        "        \n",
        "    # Updates indexes after each epoch\n",
        "    self.indexes = np.arange(len(self.paths))\n",
        "    if self.shuffle == True:\n",
        "        np.random.shuffle(self.indexes)\n",
        "        \n",
        "  def __iter__(self):\n",
        "    \"\"\"Create a generator that iterate over the Sequence.\"\"\"\n",
        "    for item in (self[i] for i in range(len(self))):\n",
        "        yield item\n",
        "\n",
        "  def __load_image(self, path):\n",
        "    im = cv2.imread(path)\n",
        "    im = cv2.resize(im, (SHAPE[0], SHAPE[1]))\n",
        "    im = np.divide(im, 255)\n",
        "    return im\n",
        "  \n",
        "def getDataset(id,label):\n",
        "    paths = [train_path+i for i in id.values]\n",
        "    labels = to_categorical(label,num_classes = 6)\n",
        "    return paths, labels\n",
        " \n",
        "train_paths, train_labels = getDataset(X_train,y_train)\n",
        "train_generator = DataGenerator(train_paths, train_labels, BATCH_SIZE, SHAPE)\n",
        "\n",
        "val_paths, val_labels = getDataset(X_val,y_val)\n",
        "val_generator = DataGenerator(val_paths, val_labels, BATCH_SIZE, SHAPE)\n",
        "\n",
        "lbl = np.zeros(len(test))\n",
        "test_paths, test_labels = getDataset(test.image_name, lbl)\n",
        "test_generator = DataGenerator(test_paths, test_labels, BATCH_SIZE, SHAPE,augument=False)"
      ],
      "execution_count": 0,
      "outputs": []
    },
    {
      "metadata": {
        "id": "SO4kdN2NqR9k",
        "colab_type": "code",
        "colab": {
          "base_uri": "https://localhost:8080/",
          "height": 118
        },
        "outputId": "e72cd1b8-42ea-449e-aa91-1513b731238e"
      },
      "cell_type": "code",
      "source": [
        "count = 0\n",
        "for i in train_generator:\n",
        "  print(i[0].shape,i[1].shape)\n",
        "  count+=1\n",
        "  if count>5:break"
      ],
      "execution_count": 11,
      "outputs": [
        {
          "output_type": "stream",
          "text": [
            "(128, 221, 221, 3) (128, 6)\n",
            "(128, 221, 221, 3) (128, 6)\n",
            "(128, 221, 221, 3) (128, 6)\n",
            "(128, 221, 221, 3) (128, 6)\n",
            "(128, 221, 221, 3) (128, 6)\n",
            "(128, 221, 221, 3) (128, 6)\n"
          ],
          "name": "stdout"
        }
      ]
    },
    {
      "metadata": {
        "id": "u3NjnOo-XpoZ",
        "colab_type": "code",
        "colab": {}
      },
      "cell_type": "code",
      "source": [
        ""
      ],
      "execution_count": 0,
      "outputs": []
    },
    {
      "metadata": {
        "id": "Z7HaWg8tWK4S",
        "colab_type": "text"
      },
      "cell_type": "markdown",
      "source": [
        "# CNN Classifier"
      ]
    },
    {
      "metadata": {
        "id": "1j4TCNQYaYGA",
        "colab_type": "code",
        "colab": {}
      },
      "cell_type": "code",
      "source": [
        "model = Sequential()\n",
        "model.add(Conv2D(128, (3, 3), input_shape=( 100, 100, 3)))\n",
        "model.add(Activation('relu'))\n",
        "#model.add(BatchNormalization(axis=-1))\n",
        "#model.add(MaxPooling2D(pool_size=(2,2)))\n",
        "\n",
        "model.add(Conv2D(64, (3, 3)))\n",
        "model.add(Activation('relu'))\n",
        "#model.add(MaxPooling2D(pool_size=(2, 2)))\n",
        "\n",
        "model.add(Conv2D(64, (3, 3)))\n",
        "model.add(Activation('relu'))\n",
        "model.add(MaxPooling2D(pool_size=(2, 2)))\n",
        "\n",
        "model.add(Conv2D(64, (3, 3)))\n",
        "model.add(Activation('relu'))\n",
        "model.add(MaxPooling2D(pool_size=(2, 2)))\n",
        "\n",
        "model.add(Flatten())  # this converts our 3D feature maps to 1D feature vectors\n",
        "model.add(Dense(32))\n",
        "model.add(Activation('relu'))\n",
        "model.add(Dropout(0.5))\n",
        "model.add(Dense(6))\n",
        "model.add(Activation('sigmoid'))\n",
        "#model.add(Activation('softmax'))\n",
        "\n",
        "model.compile(loss='binary_crossentropy',\n",
        "              optimizer=Adam(0.001),\n",
        "              metrics=['accuracy'])\n",
        "\n",
        "reduceLROnPlato = ReduceLROnPlateau(monitor='val_loss', factor=0.1, patience=3, verbose=1, mode='min')\n",
        "earlyStopping = EarlyStopping(monitor='val_loss', min_delta=0.001, patience=8, verbose=1, mode='auto', restore_best_weights=True)\n",
        "\n",
        "# Train model on dataset\n",
        "start_time = time()\n",
        "model.fit_generator(generator=train_generator,\n",
        "                    validation_data=val_generator,\n",
        "                    use_multiprocessing=True,\n",
        "                    epochs=50,\n",
        "                    workers=6,\n",
        "                   callbacks=[reduceLROnPlato, earlyStopping])\n",
        "print(time()-start_time)\n"
      ],
      "execution_count": 0,
      "outputs": []
    },
    {
      "metadata": {
        "id": "5Y8nhOqQGnq9",
        "colab_type": "code",
        "colab": {}
      },
      "cell_type": "code",
      "source": [
        "score = model.predict_generator(test_generator)\n",
        "predicted_class_indices=np.argmax(score,axis=1)\n",
        "sample_submission.label = predicted_class_indices\n",
        "sample_submission.to_csv('submit1104_2.csv',index=False)"
      ],
      "execution_count": 0,
      "outputs": []
    },
    {
      "metadata": {
        "id": "oaIQhQeQ1c6k",
        "colab_type": "code",
        "colab": {}
      },
      "cell_type": "code",
      "source": [
        "sample_submission.head()"
      ],
      "execution_count": 0,
      "outputs": []
    },
    {
      "metadata": {
        "id": "6wAi7Iiv1mZy",
        "colab_type": "code",
        "colab": {}
      },
      "cell_type": "code",
      "source": [
        "Image.open(train_path+'3.jpg')\n",
        "# predicted value - 5 -> street"
      ],
      "execution_count": 0,
      "outputs": []
    },
    {
      "metadata": {
        "id": "ybmoNRBw2F4A",
        "colab_type": "code",
        "colab": {}
      },
      "cell_type": "code",
      "source": [
        "from google.colab import files\n",
        "files.download('submit1104_2.csv')"
      ],
      "execution_count": 0,
      "outputs": []
    },
    {
      "metadata": {
        "id": "BS4gEck1WBW2",
        "colab_type": "code",
        "colab": {}
      },
      "cell_type": "code",
      "source": [
        ""
      ],
      "execution_count": 0,
      "outputs": []
    },
    {
      "metadata": {
        "id": "FEe9DbJFWCtk",
        "colab_type": "text"
      },
      "cell_type": "markdown",
      "source": [
        "#Transfer learning"
      ]
    },
    {
      "metadata": {
        "id": "dFg6cME1WBpl",
        "colab_type": "code",
        "colab": {}
      },
      "cell_type": "code",
      "source": [
        "#BASE_MODEL = 'VGG16'\n",
        "from keras.preprocessing.image import ImageDataGenerator\n",
        "\n",
        "def transfer_learning(BASE_MODEL,BATCH_SIZE=16, epoch=16):\n",
        "  if BASE_MODEL=='VGG16':\n",
        "      from keras.applications.vgg16 import VGG16 as PTModel, preprocess_input\n",
        "  elif BASE_MODEL=='vgg19':\n",
        "      from keras.applications.vgg19 import VGG19 as PTModel, preprocess_input\n",
        "  elif BASE_MODEL=='ResNet50':\n",
        "      from keras.applications.resnet50 import ResNet50 as PTModel, preprocess_input\n",
        "  elif BASE_MODEL=='InceptionV3':\n",
        "      from keras.applications.inception_v3 import InceptionV3 as PTModel, preprocess_input\n",
        "  elif BASE_MODEL=='Xception':\n",
        "      from keras.applications.xception import Xception as PTModel, preprocess_input\n",
        "  elif BASE_MODEL=='DenseNet169': \n",
        "      from keras.applications.densenet import DenseNet169 as PTModel, preprocess_input\n",
        "  elif BASE_MODEL=='DenseNet121':\n",
        "      from keras.applications.densenet import DenseNet121 as PTModel, preprocess_input\n",
        "  else:\n",
        "      raise ValueError('Unknown model: {}'.format(BASE_MODEL))\n",
        "  \n",
        "  import keras\n",
        "  keras.backend.set_learning_phase(1)\n",
        "  \n",
        "  check_point_name = BASE_MODEL + '.model'\n",
        "  model_weights = BASE_MODEL + '.h5'\n",
        "\n",
        "  train_paths, train_labels = getDataset(X_train,y_train)\n",
        "  train_generator = DataGenerator(train_paths, train_labels, BATCH_SIZE, SHAPE)\n",
        "\n",
        "  val_paths, val_labels = getDataset(X_val,y_val)\n",
        "  val_generator = DataGenerator(val_paths, val_labels, BATCH_SIZE, SHAPE)\n",
        "\n",
        "  lbl = np.zeros(len(test))\n",
        "  test_paths, test_labels = getDataset(test.image_name, lbl)\n",
        "  test_generator = DataGenerator(test_paths, test_labels, BATCH_SIZE, SHAPE)\n",
        "\n",
        "  img_rows, img_cols, img_channel = 221, 221, 3\n",
        "  base_model = PTModel(weights='imagenet'\n",
        "                     ,include_top=False, input_shape=(img_rows, img_cols, img_channel), classes = 2)\n",
        "\n",
        "  add_model = Sequential()\n",
        "  add_model.add(Flatten(input_shape=base_model.output_shape[1:]))\n",
        "  add_model.add(Dense(32, activation='relu'))\n",
        "  add_model.add(Dense(6, activation='sigmoid'))\n",
        "\n",
        "  model = Model(inputs=base_model.input, outputs=add_model(base_model.output))\n",
        "\n",
        "\n",
        "#   for layer in base_model.layers:\n",
        "#       layer.trainable = False\n",
        "\n",
        "#       if layer.name.startswith('bn'):\n",
        "#           layer.call(layer.input, training=False)\n",
        "#   model.layers[-1].trainable = True\n",
        "#   model.layers[-2].trainable = True\n",
        "\n",
        "\n",
        "  model.compile(loss='binary_crossentropy', \n",
        "                optimizer=SGD(lr=1e-4, momentum=0.9),\n",
        "                metrics=['accuracy'])\n",
        "  \n",
        "  reduceLROnPlato = ReduceLROnPlateau(monitor='val_loss', factor=0.1, patience=3, verbose=1, mode='min')\n",
        "  earlyStopping = EarlyStopping(monitor='val_loss', min_delta=0.001, patience=8, verbose=1, mode='auto')\n",
        "  checkPoint = ModelCheckpoint(check_point_name, monitor='val_acc', save_best_only=True)\n",
        "  \n",
        "  start_time = time()\n",
        "  model.fit_generator(\n",
        "          train_generator,\n",
        "          epochs=epoch,\n",
        "          validation_data=val_generator,\n",
        "          #class_weight = class_weights,\n",
        "          callbacks=[reduceLROnPlato, earlyStopping])\n",
        "  #model.save_weights(model_weights)\n",
        "\n",
        "  print('time taken ',(time()-start_time)/60,'min')\n",
        "  return model"
      ],
      "execution_count": 0,
      "outputs": []
    },
    {
      "metadata": {
        "id": "grNXbw1KX6n-",
        "colab_type": "code",
        "colab": {}
      },
      "cell_type": "code",
      "source": [
        "# train last layer\n",
        "trans_model = transfer_learning('VGG16')"
      ],
      "execution_count": 0,
      "outputs": []
    },
    {
      "metadata": {
        "id": "MA1euq-_aWUV",
        "colab_type": "code",
        "outputId": "bbb1cb07-ef4e-4753-cd8e-ab717dcf5389",
        "colab": {
          "base_uri": "https://localhost:8080/",
          "height": 574
        }
      },
      "cell_type": "code",
      "source": [
        "# train all layers of VGG16 model\n",
        "trans_model = transfer_learning('VGG16')"
      ],
      "execution_count": 30,
      "outputs": [
        {
          "output_type": "stream",
          "text": [
            "Epoch 1/16\n",
            "373/373 [==============================] - 99s 265ms/step - loss: 0.4133 - acc: 0.8211 - val_loss: 0.2350 - val_acc: 0.9038\n",
            "Epoch 2/16\n",
            "373/373 [==============================] - 97s 260ms/step - loss: 0.1795 - acc: 0.9293 - val_loss: 0.1516 - val_acc: 0.9424\n",
            "Epoch 3/16\n",
            "373/373 [==============================] - 97s 260ms/step - loss: 0.1345 - acc: 0.9493 - val_loss: 0.1318 - val_acc: 0.9497\n",
            "Epoch 4/16\n",
            "373/373 [==============================] - 97s 260ms/step - loss: 0.1163 - acc: 0.9561 - val_loss: 0.1195 - val_acc: 0.9544\n",
            "Epoch 5/16\n",
            "373/373 [==============================] - 98s 262ms/step - loss: 0.1056 - acc: 0.9601 - val_loss: 0.1121 - val_acc: 0.9573\n",
            "Epoch 6/16\n",
            "373/373 [==============================] - 98s 262ms/step - loss: 0.0972 - acc: 0.9632 - val_loss: 0.1096 - val_acc: 0.9584\n",
            "Epoch 7/16\n",
            "373/373 [==============================] - 98s 263ms/step - loss: 0.0898 - acc: 0.9669 - val_loss: 0.1029 - val_acc: 0.9616\n",
            "Epoch 8/16\n",
            "373/373 [==============================] - 98s 262ms/step - loss: 0.0837 - acc: 0.9691 - val_loss: 0.1046 - val_acc: 0.9600\n",
            "Epoch 9/16\n",
            "373/373 [==============================] - 98s 262ms/step - loss: 0.0789 - acc: 0.9707 - val_loss: 0.0986 - val_acc: 0.9633\n",
            "Epoch 10/16\n",
            "373/373 [==============================] - 98s 262ms/step - loss: 0.0754 - acc: 0.9722 - val_loss: 0.0992 - val_acc: 0.9631\n",
            "Epoch 11/16\n",
            "373/373 [==============================] - 97s 261ms/step - loss: 0.0709 - acc: 0.9734 - val_loss: 0.0943 - val_acc: 0.9652\n",
            "Epoch 12/16\n",
            "373/373 [==============================] - 97s 261ms/step - loss: 0.0673 - acc: 0.9750 - val_loss: 0.0953 - val_acc: 0.9644\n",
            "Epoch 13/16\n",
            "373/373 [==============================] - 98s 262ms/step - loss: 0.0642 - acc: 0.9766 - val_loss: 0.0945 - val_acc: 0.9643\n",
            "Epoch 14/16\n",
            "373/373 [==============================] - 98s 261ms/step - loss: 0.0613 - acc: 0.9776 - val_loss: 0.0940 - val_acc: 0.9649\n",
            "Epoch 15/16\n",
            "373/373 [==============================] - 98s 262ms/step - loss: 0.0583 - acc: 0.9783 - val_loss: 0.0907 - val_acc: 0.9668\n",
            "Epoch 16/16\n",
            "373/373 [==============================] - 98s 262ms/step - loss: 0.0549 - acc: 0.9804 - val_loss: 0.0916 - val_acc: 0.9663\n",
            "time taken  26.066204357147218 min\n"
          ],
          "name": "stdout"
        }
      ]
    },
    {
      "metadata": {
        "id": "csXSt_7bigB5",
        "colab_type": "code",
        "colab": {}
      },
      "cell_type": "code",
      "source": [
        "score = trans_model.predict_generator(test_generator)\n",
        "predicted_class_indices=np.argmax(score,axis=1)\n",
        "sample_submission.label = predicted_class_indices\n",
        "sample_submission.to_csv('submit1104_3.csv',index=False)"
      ],
      "execution_count": 0,
      "outputs": []
    },
    {
      "metadata": {
        "id": "_mU55hu0isqk",
        "colab_type": "code",
        "colab": {}
      },
      "cell_type": "code",
      "source": [
        "from google.colab import files\n",
        "files.download('submit1104_3.csv')"
      ],
      "execution_count": 0,
      "outputs": []
    },
    {
      "metadata": {
        "id": "ApEaIb0xiz6R",
        "colab_type": "code",
        "colab": {
          "base_uri": "https://localhost:8080/",
          "height": 658
        },
        "outputId": "e8726487-7233-45f3-80e6-da5ec509b52b"
      },
      "cell_type": "code",
      "source": [
        "# train all layers of densenet model without image augumenation\n",
        "densnet_model = transfer_learning('DenseNet169')"
      ],
      "execution_count": 41,
      "outputs": [
        {
          "output_type": "stream",
          "text": [
            "Epoch 1/16\n",
            "373/373 [==============================] - 490s 1s/step - loss: 0.2892 - acc: 0.8710 - val_loss: 0.1486 - val_acc: 0.9452\n",
            "Epoch 2/16\n",
            "373/373 [==============================] - 455s 1s/step - loss: 0.1137 - acc: 0.9593 - val_loss: 0.1149 - val_acc: 0.9581\n",
            "Epoch 3/16\n",
            "373/373 [==============================] - 455s 1s/step - loss: 0.0820 - acc: 0.9718 - val_loss: 0.1031 - val_acc: 0.9635\n",
            "Epoch 4/16\n",
            "373/373 [==============================] - 455s 1s/step - loss: 0.0646 - acc: 0.9788 - val_loss: 0.0980 - val_acc: 0.9648\n",
            "Epoch 5/16\n",
            "373/373 [==============================] - 454s 1s/step - loss: 0.0529 - acc: 0.9837 - val_loss: 0.0948 - val_acc: 0.9663\n",
            "Epoch 6/16\n",
            "373/373 [==============================] - 455s 1s/step - loss: 0.0438 - acc: 0.9877 - val_loss: 0.0933 - val_acc: 0.9664\n",
            "Epoch 7/16\n",
            "373/373 [==============================] - 455s 1s/step - loss: 0.0368 - acc: 0.9908 - val_loss: 0.0922 - val_acc: 0.9675\n",
            "Epoch 8/16\n",
            "373/373 [==============================] - 455s 1s/step - loss: 0.0312 - acc: 0.9932 - val_loss: 0.0911 - val_acc: 0.9674\n",
            "Epoch 9/16\n",
            "373/373 [==============================] - 455s 1s/step - loss: 0.0266 - acc: 0.9948 - val_loss: 0.0906 - val_acc: 0.9680\n",
            "Epoch 10/16\n",
            "373/373 [==============================] - 454s 1s/step - loss: 0.0229 - acc: 0.9961 - val_loss: 0.0907 - val_acc: 0.9682\n",
            "Epoch 11/16\n",
            "373/373 [==============================] - 455s 1s/step - loss: 0.0199 - acc: 0.9971 - val_loss: 0.0908 - val_acc: 0.9683\n",
            "Epoch 12/16\n",
            "373/373 [==============================] - 455s 1s/step - loss: 0.0174 - acc: 0.9978 - val_loss: 0.0907 - val_acc: 0.9690\n",
            "\n",
            "Epoch 00012: ReduceLROnPlateau reducing learning rate to 9.999999747378752e-06.\n",
            "Epoch 13/16\n",
            "373/373 [==============================] - 455s 1s/step - loss: 0.0152 - acc: 0.9985 - val_loss: 0.0907 - val_acc: 0.9689\n",
            "Epoch 14/16\n",
            "373/373 [==============================] - 455s 1s/step - loss: 0.0150 - acc: 0.9986 - val_loss: 0.0907 - val_acc: 0.9691\n",
            "Epoch 15/16\n",
            "373/373 [==============================] - 455s 1s/step - loss: 0.0148 - acc: 0.9986 - val_loss: 0.0907 - val_acc: 0.9692\n",
            "\n",
            "Epoch 00015: ReduceLROnPlateau reducing learning rate to 9.999999747378752e-07.\n",
            "Epoch 16/16\n",
            "373/373 [==============================] - 455s 1s/step - loss: 0.0146 - acc: 0.9986 - val_loss: 0.0908 - val_acc: 0.9691\n",
            "Epoch 00016: early stopping\n",
            "time taken  126.776802221934 min\n"
          ],
          "name": "stdout"
        }
      ]
    },
    {
      "metadata": {
        "id": "47kT3AEAQ89D",
        "colab_type": "code",
        "colab": {
          "base_uri": "https://localhost:8080/",
          "height": 607
        },
        "outputId": "cde327c7-73bc-4c79-cefe-43901694ca42"
      },
      "cell_type": "code",
      "source": [
        "# train all layers of densenet model with image augumentatoin\n",
        "densnet_model = transfer_learning('DenseNet169')"
      ],
      "execution_count": 24,
      "outputs": [
        {
          "output_type": "stream",
          "text": [
            "Epoch 1/16\n",
            "746/746 [==============================] - 1468s 2s/step - loss: 0.2723 - acc: 0.8924 - val_loss: 0.2110 - val_acc: 0.9200\n",
            "Epoch 2/16\n",
            "746/746 [==============================] - 1426s 2s/step - loss: 0.1923 - acc: 0.9275 - val_loss: 0.1902 - val_acc: 0.9280\n",
            "Epoch 3/16\n",
            "746/746 [==============================] - 1426s 2s/step - loss: 0.1710 - acc: 0.9365 - val_loss: 0.1814 - val_acc: 0.9324\n",
            "Epoch 4/16\n",
            "746/746 [==============================] - 1426s 2s/step - loss: 0.1596 - acc: 0.9406 - val_loss: 0.1777 - val_acc: 0.9337\n",
            "Epoch 5/16\n",
            "746/746 [==============================] - 1425s 2s/step - loss: 0.1490 - acc: 0.9453 - val_loss: 0.1724 - val_acc: 0.9366\n",
            "Epoch 6/16\n",
            "746/746 [==============================] - 1424s 2s/step - loss: 0.1425 - acc: 0.9475 - val_loss: 0.1675 - val_acc: 0.9384\n",
            "Epoch 7/16\n",
            "746/746 [==============================] - 1425s 2s/step - loss: 0.1405 - acc: 0.9483 - val_loss: 0.1718 - val_acc: 0.9364\n",
            "Epoch 8/16\n",
            "746/746 [==============================] - 1427s 2s/step - loss: 0.1348 - acc: 0.9506 - val_loss: 0.1675 - val_acc: 0.9380\n",
            "Epoch 9/16\n",
            "746/746 [==============================] - 1426s 2s/step - loss: 0.1301 - acc: 0.9526 - val_loss: 0.1647 - val_acc: 0.9390\n",
            "Epoch 10/16\n",
            "746/746 [==============================] - 1428s 2s/step - loss: 0.1275 - acc: 0.9536 - val_loss: 0.1641 - val_acc: 0.9408\n",
            "Epoch 11/16\n",
            "746/746 [==============================] - 1428s 2s/step - loss: 0.1227 - acc: 0.9555 - val_loss: 0.1647 - val_acc: 0.9397\n",
            "Epoch 12/16\n",
            "746/746 [==============================] - 1427s 2s/step - loss: 0.1230 - acc: 0.9554 - val_loss: 0.1646 - val_acc: 0.9398\n",
            "Epoch 13/16\n",
            "746/746 [==============================] - 1427s 2s/step - loss: 0.1179 - acc: 0.9571 - val_loss: 0.1586 - val_acc: 0.9416\n",
            "Epoch 14/16\n",
            "746/746 [==============================] - 1427s 2s/step - loss: 0.1194 - acc: 0.9569 - val_loss: 0.1607 - val_acc: 0.9407\n",
            "Epoch 15/16\n",
            "746/746 [==============================] - 1426s 2s/step - loss: 0.1149 - acc: 0.9585 - val_loss: 0.1618 - val_acc: 0.9413\n",
            "Epoch 16/16\n",
            "746/746 [==============================] - 1427s 2s/step - loss: 0.1151 - acc: 0.9585 - val_loss: 0.1586 - val_acc: 0.9431\n",
            "\n",
            "Epoch 00016: ReduceLROnPlateau reducing learning rate to 9.999999747378752e-06.\n",
            "time taken  381.2946756521861 min\n"
          ],
          "name": "stdout"
        }
      ]
    },
    {
      "metadata": {
        "id": "5slrqowLIMuu",
        "colab_type": "code",
        "colab": {}
      },
      "cell_type": "code",
      "source": [
        "score = densnet_model.predict_generator(test_generator)\n",
        "predicted_class_indices=np.argmax(score,axis=1)\n",
        "sample_submission.label = predicted_class_indices\n",
        "sample_submission.to_csv('submit1104_5.csv',index=False)\n",
        "from google.colab import files\n",
        "files.download('submit1104_5.csv')"
      ],
      "execution_count": 0,
      "outputs": []
    },
    {
      "metadata": {
        "id": "gQ11CCoYsPzk",
        "colab_type": "code",
        "colab": {
          "base_uri": "https://localhost:8080/",
          "height": 810
        },
        "outputId": "b1b6a217-c721-4939-947b-a0909df8203a"
      },
      "cell_type": "code",
      "source": [
        "# train all layers of densenet model with image augumentatoin, 32 nodes in last layer\n",
        "densnet_model = transfer_learning('DenseNet169',BATCH_SIZE=16,epoch=20)"
      ],
      "execution_count": 19,
      "outputs": [
        {
          "output_type": "stream",
          "text": [
            "Epoch 1/20\n",
            "746/746 [==============================] - 1441s 2s/step - loss: 0.2855 - acc: 0.8887 - val_loss: 0.2151 - val_acc: 0.9197\n",
            "Epoch 2/20\n",
            "746/746 [==============================] - 1397s 2s/step - loss: 0.2001 - acc: 0.9251 - val_loss: 0.1939 - val_acc: 0.9283\n",
            "Epoch 3/20\n",
            "746/746 [==============================] - 1397s 2s/step - loss: 0.1805 - acc: 0.9327 - val_loss: 0.1847 - val_acc: 0.9308\n",
            "Epoch 4/20\n",
            "746/746 [==============================] - 1396s 2s/step - loss: 0.1670 - acc: 0.9379 - val_loss: 0.1791 - val_acc: 0.9336\n",
            "Epoch 5/20\n",
            "746/746 [==============================] - 1397s 2s/step - loss: 0.1583 - acc: 0.9415 - val_loss: 0.1759 - val_acc: 0.9353\n",
            "Epoch 6/20\n",
            "746/746 [==============================] - 1395s 2s/step - loss: 0.1507 - acc: 0.9446 - val_loss: 0.1665 - val_acc: 0.9380\n",
            "Epoch 7/20\n",
            "746/746 [==============================] - 1393s 2s/step - loss: 0.1475 - acc: 0.9458 - val_loss: 0.1683 - val_acc: 0.9377\n",
            "Epoch 8/20\n",
            "746/746 [==============================] - 1394s 2s/step - loss: 0.1407 - acc: 0.9479 - val_loss: 0.1685 - val_acc: 0.9379\n",
            "Epoch 9/20\n",
            "746/746 [==============================] - 1394s 2s/step - loss: 0.1358 - acc: 0.9506 - val_loss: 0.1667 - val_acc: 0.9381\n",
            "\n",
            "Epoch 00009: ReduceLROnPlateau reducing learning rate to 9.999999747378752e-06.\n",
            "Epoch 10/20\n",
            "746/746 [==============================] - 1394s 2s/step - loss: 0.1324 - acc: 0.9520 - val_loss: 0.1627 - val_acc: 0.9391\n",
            "Epoch 11/20\n",
            "746/746 [==============================] - 1391s 2s/step - loss: 0.1287 - acc: 0.9532 - val_loss: 0.1609 - val_acc: 0.9402\n",
            "Epoch 12/20\n",
            "746/746 [==============================] - 1394s 2s/step - loss: 0.1298 - acc: 0.9530 - val_loss: 0.1640 - val_acc: 0.9388\n",
            "Epoch 13/20\n",
            "746/746 [==============================] - 1395s 2s/step - loss: 0.1286 - acc: 0.9536 - val_loss: 0.1569 - val_acc: 0.9424\n",
            "Epoch 14/20\n",
            "746/746 [==============================] - 1395s 2s/step - loss: 0.1304 - acc: 0.9530 - val_loss: 0.1601 - val_acc: 0.9407\n",
            "Epoch 15/20\n",
            "746/746 [==============================] - 1394s 2s/step - loss: 0.1284 - acc: 0.9534 - val_loss: 0.1613 - val_acc: 0.9402\n",
            "Epoch 16/20\n",
            "746/746 [==============================] - 1390s 2s/step - loss: 0.1289 - acc: 0.9534 - val_loss: 0.1568 - val_acc: 0.9421\n",
            "\n",
            "Epoch 00016: ReduceLROnPlateau reducing learning rate to 9.999999747378752e-07.\n",
            "Epoch 17/20\n",
            "746/746 [==============================] - 1387s 2s/step - loss: 0.1302 - acc: 0.9527 - val_loss: 0.1640 - val_acc: 0.9397\n",
            "Epoch 18/20\n",
            "746/746 [==============================] - 1387s 2s/step - loss: 0.1288 - acc: 0.9536 - val_loss: 0.1600 - val_acc: 0.9407\n",
            "Epoch 19/20\n",
            "746/746 [==============================] - 1387s 2s/step - loss: 0.1291 - acc: 0.9534 - val_loss: 0.1576 - val_acc: 0.9414\n",
            "\n",
            "Epoch 00019: ReduceLROnPlateau reducing learning rate to 9.999999974752428e-08.\n",
            "Epoch 20/20\n",
            "746/746 [==============================] - 1387s 2s/step - loss: 0.1310 - acc: 0.9526 - val_loss: 0.1607 - val_acc: 0.9405\n",
            "time taken  465.3731814066569 min\n"
          ],
          "name": "stdout"
        }
      ]
    },
    {
      "metadata": {
        "id": "fB4FtscD95B_",
        "colab_type": "code",
        "colab": {}
      },
      "cell_type": "code",
      "source": [
        "score = densnet_model.predict_generator(test_generator)\n",
        "predicted_class_indices=np.argmax(score,axis=1)\n",
        "sample_submission.label = predicted_class_indices\n",
        "sample_submission.to_csv('submit1106_1.csv',index=False)\n",
        "from google.colab import files\n",
        "files.download('submit1106_1.csv')"
      ],
      "execution_count": 0,
      "outputs": []
    },
    {
      "metadata": {
        "id": "7GlHiwgGqO4h",
        "colab_type": "code",
        "colab": {
          "base_uri": "https://localhost:8080/",
          "height": 34
        },
        "outputId": "9fe75585-5ddc-4480-a61b-a0108a7d2a78"
      },
      "cell_type": "code",
      "source": [
        "465/60"
      ],
      "execution_count": 20,
      "outputs": [
        {
          "output_type": "execute_result",
          "data": {
            "text/plain": [
              "7.75"
            ]
          },
          "metadata": {
            "tags": []
          },
          "execution_count": 20
        }
      ]
    }
  ]
}