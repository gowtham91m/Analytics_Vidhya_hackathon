{
  "nbformat": 4,
  "nbformat_minor": 0,
  "metadata": {
    "colab": {
      "name": "enigma.ipynb",
      "version": "0.3.2",
      "provenance": [],
      "collapsed_sections": [],
      "include_colab_link": true
    },
    "kernelspec": {
      "name": "python3",
      "display_name": "Python 3"
    }
  },
  "cells": [
    {
      "cell_type": "markdown",
      "metadata": {
        "id": "view-in-github",
        "colab_type": "text"
      },
      "source": [
        "[View in Colaboratory](https://colab.research.google.com/github/gowtham91m/Analytics_Vidhya_hackathon/blob/master/enigma.ipynb)"
      ]
    },
    {
      "metadata": {
        "id": "NU6fkoqYAYqn",
        "colab_type": "code",
        "colab": {}
      },
      "cell_type": "code",
      "source": [
        "%%capture\n",
        "!pip install PyDrive\n",
        "from pydrive.auth import GoogleAuth\n",
        "from pydrive.drive import GoogleDrive\n",
        "from google.colab import auth\n",
        "from oauth2client.client import GoogleCredentials\n",
        "\n",
        "import pandas as pd\n",
        "import numpy as np\n",
        "from sklearn.model_selection import train_test_split,GridSearchCV,RandomizedSearchCV\n",
        "from sklearn.linear_model import LinearRegression, RidgeCV, Ridge,LassoCV, Lasso\n",
        "import xgboost as xgb\n",
        "from xgboost import XGBRegressor\n",
        "from sklearn.preprocessing import StandardScaler\n",
        "from sklearn.pipeline import make_pipeline\n",
        "from sklearn.metrics import mean_squared_error, r2_score, make_scorer\n",
        "from sklearn.preprocessing import PolynomialFeatures\n",
        "from google.colab import files\n",
        "from sklearn.cross_validation import *\n",
        "from time import time"
      ],
      "execution_count": 0,
      "outputs": []
    },
    {
      "metadata": {
        "id": "ib7np_76BFCJ",
        "colab_type": "code",
        "colab": {}
      },
      "cell_type": "code",
      "source": [
        "auth.authenticate_user()\n",
        "gauth = GoogleAuth()\n",
        "gauth.credentials = GoogleCredentials.get_application_default()\n",
        "drive = GoogleDrive(gauth)"
      ],
      "execution_count": 0,
      "outputs": []
    },
    {
      "metadata": {
        "id": "VHkcFo72BG7N",
        "colab_type": "code",
        "colab": {}
      },
      "cell_type": "code",
      "source": [
        "train = drive.CreateFile({'id': '10ihNrtkuPvwlVEODXmw9N2etRWBxTdmh'})\n",
        "test = drive.CreateFile({'id': '10XhWYDZZYiW0jx8tzj0iijKiEFwUXTrk'})\n",
        "\n",
        "train.GetContentFile('train.csv')\n",
        "test.GetContentFile('test.csv')"
      ],
      "execution_count": 0,
      "outputs": []
    },
    {
      "metadata": {
        "id": "J0WkUaRZBcCu",
        "colab_type": "code",
        "colab": {}
      },
      "cell_type": "code",
      "source": [
        "train = pd.read_csv('train.csv')\n",
        "test = pd.read_csv('test.csv')\n",
        "train_id = train.ID\n",
        "test_id = test.ID\n",
        "data = train.append(test)\n",
        "\n",
        "dummies = pd.get_dummies(data.Tag,drop_first=True)\n",
        "data = pd.concat([data,dummies],axis=1)\n",
        "#data.Answers=np.log(data.Answers+1)\n",
        "#data.Reputation=np.log(data.Reputation+1)\n",
        "# drop username\n",
        "data.drop(['ID','Username','Tag'],axis=1,inplace=True)\n",
        "\n",
        "train = data.loc[~data.Upvotes.isnull()]\n",
        "test=data.loc[data.Upvotes.isnull()]\n",
        "test = test.drop(['Upvotes'],axis=1)\n",
        "\n",
        "y = train.Upvotes\n",
        "X = train.drop(['Upvotes'],axis=1)\n",
        "\n",
        "#X_train, X_test, y_train, y_test = train_test_split( X, y, test_size=0.33, random_state=42)\n",
        "#dtrain = xgb.DMatrix(X_train, label=y_train)\n",
        "#dtest = xgb.DMatrix(X_test, label=y_test)\n",
        "#dtrain = xgb.DMatrix(X,y)\n",
        "#test_matrix = xgb.DMatrix(test)\n",
        "#Std = StandardScaler().fit(X)\n",
        "#X = Std.transform(X)\n",
        "#X_test = Std.transform(test)\n",
        "\n",
        "\n",
        "poly = PolynomialFeatures(degree=2)\n",
        "x_poly = poly.fit_transform(X)\n",
        "test_poly = poly.fit_transform(test)"
      ],
      "execution_count": 0,
      "outputs": []
    },
    {
      "metadata": {
        "id": "utoCIL_jYTTJ",
        "colab_type": "code",
        "colab": {}
      },
      "cell_type": "code",
      "source": [
        ""
      ],
      "execution_count": 0,
      "outputs": []
    },
    {
      "metadata": {
        "id": "sB8liB8ggKa9",
        "colab_type": "code",
        "colab": {}
      },
      "cell_type": "code",
      "source": [
        "def submit_file(model):\n",
        "  pred = model.predict(test_poly3)\n",
        "  submit = pd.DataFrame({'ID':test_id,'Upvotes':pred})\n",
        "  submit.to_csv('submit.csv',index=False)\n",
        "  files.download('submit.csv')\n",
        "\n",
        "## grid search cv\n",
        "def rmse(y_true,y_pred):\n",
        "  return np.sqrt(mean_squared_error(y_true,y_pred))\n",
        "rmse_score = make_scorer(rmse,greater_is_better=False)\n",
        "\n",
        "def gridsearchcv(xtrain,ytrain,model,params, scoring = None, fit_params = None):\n",
        "  grid = GridSearchCV(model\n",
        "                      ,params\n",
        "                      ,scoring = scoring\n",
        "                      ,fit_params = fit_params\n",
        "                     # ,cv=StratifiedKFold(ytrain, n_folds=2,  shuffle=True)\n",
        "                      ,cv = 4\n",
        "                      ,verbose = 1\n",
        "                      ,refit=True)\n",
        "  grid.fit(xtrain,ytrain)\n",
        "  \n",
        "  best_parameters, score, _ = max(grid.grid_scores_, key=lambda x: x[1])\n",
        "  print('Score:', np.sqrt(-score))\n",
        "  for param_name in sorted(best_parameters.keys()):\n",
        "      print(\"%s: %r\" % (param_name, best_parameters[param_name]))\n",
        "  return grid\n",
        "\n",
        "def randomizedcv(xtrain,ytrain,model,params, scoring = None, fit_params = None):\n",
        "  grid = RandomizedSearchCV(model, params, \n",
        "                   n_jobs=5, \n",
        "                   cv=3, \n",
        "                   scoring=scoring,\n",
        "                   verbose=1,\n",
        "                   refit=True)\n",
        "  grid.fit(xtrain,ytrain)\n",
        "  \n",
        "  best_parameters, score, _ = max(grid.grid_scores_, key=lambda x: x[1])\n",
        "  print('score:', np.sqrt(-score))\n",
        "  for param_name in sorted(best_parameters.keys()):\n",
        "      print(\"%s: %r\" % (param_name, best_parameters[param_name]))\n",
        "  return grid"
      ],
      "execution_count": 0,
      "outputs": []
    },
    {
      "metadata": {
        "id": "7ecaPOURmN_u",
        "colab_type": "code",
        "colab": {}
      },
      "cell_type": "code",
      "source": [
        ""
      ],
      "execution_count": 0,
      "outputs": []
    },
    {
      "metadata": {
        "id": "nqqSx_sdmOGu",
        "colab_type": "code",
        "colab": {}
      },
      "cell_type": "code",
      "source": [
        "from sklearn.neighbors import KNeighborsRegressor\n",
        "from sklearn.svm import SVR, NuSVR, LinearSVR\n",
        "svr_poly = NuSVR().fit(x_poly,y)\n",
        "submit_file(svr_poly)"
      ],
      "execution_count": 0,
      "outputs": []
    },
    {
      "metadata": {
        "id": "8m-ox1MymOMk",
        "colab_type": "code",
        "colab": {}
      },
      "cell_type": "code",
      "source": [
        "poly3 = PolynomialFeatures(degree=3)\n",
        "x_poly3 = poly3.fit_transform(X)\n",
        "test_poly3 = poly3.fit_transform(test)\n"
      ],
      "execution_count": 0,
      "outputs": []
    },
    {
      "metadata": {
        "id": "BaMqNb_Xnp2V",
        "colab_type": "code",
        "colab": {}
      },
      "cell_type": "code",
      "source": [
        "t = time()\n",
        "lr_poly3 = LinearRegression().fit(x_poly3,y)\n",
        "print(time() - t)"
      ],
      "execution_count": 0,
      "outputs": []
    },
    {
      "metadata": {
        "id": "P0R1p910nikG",
        "colab_type": "code",
        "colab": {}
      },
      "cell_type": "code",
      "source": [
        "submit_file(lr_poly3)"
      ],
      "execution_count": 0,
      "outputs": []
    },
    {
      "metadata": {
        "id": "IxqTFe3psCIT",
        "colab_type": "code",
        "colab": {}
      },
      "cell_type": "code",
      "source": [
        ""
      ],
      "execution_count": 0,
      "outputs": []
    },
    {
      "metadata": {
        "id": "LHhI9la5sCN3",
        "colab_type": "code",
        "colab": {}
      },
      "cell_type": "code",
      "source": [
        ""
      ],
      "execution_count": 0,
      "outputs": []
    },
    {
      "metadata": {
        "id": "3NaMbSMYsaM4",
        "colab_type": "code",
        "colab": {}
      },
      "cell_type": "code",
      "source": [
        ""
      ],
      "execution_count": 0,
      "outputs": []
    },
    {
      "metadata": {
        "id": "5JIwWhlkHV7i",
        "colab_type": "code",
        "colab": {}
      },
      "cell_type": "code",
      "source": [
        "#submit_file(model)"
      ],
      "execution_count": 0,
      "outputs": []
    },
    {
      "metadata": {
        "id": "M2yhJ7bS4Xvo",
        "colab_type": "code",
        "colab": {
          "base_uri": "https://localhost:8080/",
          "height": 35
        },
        "outputId": "de04f286-0a15-4970-f391-ff188358988e"
      },
      "cell_type": "code",
      "source": [
        "# solve no space left on the device\n",
        "%env JOBLIB_TEMP_FOLDER=/tmp"
      ],
      "execution_count": 0,
      "outputs": [
        {
          "output_type": "stream",
          "text": [
            "env: JOBLIB_TEMP_FOLDER=/tmp\n"
          ],
          "name": "stdout"
        }
      ]
    },
    {
      "metadata": {
        "id": "5i7ILSVY5dl7",
        "colab_type": "code",
        "colab": {
          "base_uri": "https://localhost:8080/",
          "height": 211
        },
        "outputId": "bf6715d5-da88-406b-dd93-22a02de10f9e"
      },
      "cell_type": "code",
      "source": [
        "# xbg\n",
        "params = {'min_child_weight':[4,5], \n",
        "          'gamma':[i/10.0 for i in range(3,6)],  \n",
        "          'subsample':[i/10.0 for i in range(6,11)],\n",
        "          'colsample_bytree':[i/10.0 for i in range(6,11)],\n",
        "          'max_depth': [2,3,4]}\n",
        "\n",
        "xgb = XGBRegressor()\n",
        "model = randomizedcv(X_poly,y,xgb,params,'neg_mean_squared_error')"
      ],
      "execution_count": 0,
      "outputs": [
        {
          "output_type": "stream",
          "text": [
            "Fitting 2 folds for each of 10 candidates, totalling 20 fits\n"
          ],
          "name": "stdout"
        },
        {
          "output_type": "stream",
          "text": [
            "[Parallel(n_jobs=5)]: Done  20 out of  20 | elapsed: 13.3min finished\n"
          ],
          "name": "stderr"
        },
        {
          "output_type": "stream",
          "text": [
            "score: 1231.1026226384338\n",
            "colsample_bytree: 0.9\n",
            "gamma: 0.4\n",
            "max_depth: 3\n",
            "min_child_weight: 4\n",
            "subsample: 0.7\n"
          ],
          "name": "stdout"
        },
        {
          "output_type": "stream",
          "text": [
            "/usr/local/lib/python3.6/dist-packages/sklearn/model_selection/_search.py:762: DeprecationWarning: The grid_scores_ attribute was deprecated in version 0.18 in favor of the more elaborate cv_results_ attribute. The grid_scores_ attribute will not be available from 0.20\n",
            "  DeprecationWarning)\n"
          ],
          "name": "stderr"
        }
      ]
    },
    {
      "metadata": {
        "id": "HdkAxhCyu0PP",
        "colab_type": "code",
        "colab": {}
      },
      "cell_type": "code",
      "source": [
        ""
      ],
      "execution_count": 0,
      "outputs": []
    },
    {
      "metadata": {
        "id": "UXIVfUiqvSCj",
        "colab_type": "code",
        "colab": {}
      },
      "cell_type": "code",
      "source": [
        ""
      ],
      "execution_count": 0,
      "outputs": []
    },
    {
      "metadata": {
        "id": "SXjxSdtAvSGI",
        "colab_type": "code",
        "colab": {}
      },
      "cell_type": "code",
      "source": [
        ""
      ],
      "execution_count": 0,
      "outputs": []
    },
    {
      "metadata": {
        "id": "BIUQbglnvSJB",
        "colab_type": "code",
        "colab": {}
      },
      "cell_type": "code",
      "source": [
        "#kernel=’rbf’, degree=3, gamma=’auto’, coef0=0.0, tol=0.001, C=1.0, epsilon=0.1, shrinking=True, cache_size=200, verbose=False, max_iter=-1\n",
        "from sklearn.svm import SVR, NuSVR, LinearSVR\n",
        "svr_poly = NuSVR().fit(x_poly,y)\n",
        "submit_file(svr_poly)"
      ],
      "execution_count": 0,
      "outputs": []
    },
    {
      "metadata": {
        "id": "K9fy2bf7vSMQ",
        "colab_type": "code",
        "colab": {
          "base_uri": "https://localhost:8080/",
          "height": 52
        },
        "outputId": "11443576-f7aa-4535-c690-20dfeb2b6bdb"
      },
      "cell_type": "code",
      "source": [
        "from sklearn.linear_model import OrthogonalMatchingPursuit\n",
        "print(cross_val_score(OrthogonalMatchingPursuit(),X,y,cv=5,scoring=rmse_score))"
      ],
      "execution_count": 0,
      "outputs": [
        {
          "output_type": "stream",
          "text": [
            "[-4014.68638108 -3178.64437153 -2716.14799671 -2657.1726923\n",
            " -3407.39592938]\n"
          ],
          "name": "stdout"
        }
      ]
    },
    {
      "metadata": {
        "id": "Tp4LQjRNjVoj",
        "colab_type": "code",
        "colab": {
          "base_uri": "https://localhost:8080/",
          "height": 141
        },
        "outputId": "5e2ff7d3-97a5-4046-d297-aa1998a8f343"
      },
      "cell_type": "code",
      "source": [
        "# ridge\n",
        "ridge_params = {'alpha':[0.5,1.0,1.5] }\n",
        "ridge_model = gridsearchcv(x_poly,y,Ridge(),ridge_params,'neg_mean_squared_error')"
      ],
      "execution_count": 0,
      "outputs": [
        {
          "output_type": "stream",
          "text": [
            "Fitting 4 folds for each of 3 candidates, totalling 12 fits\n"
          ],
          "name": "stdout"
        },
        {
          "output_type": "stream",
          "text": [
            "[Parallel(n_jobs=1)]: Done  12 out of  12 | elapsed:   11.2s finished\n"
          ],
          "name": "stderr"
        },
        {
          "output_type": "stream",
          "text": [
            "Score: 1196.4622603976597\n",
            "alpha: 1.5\n"
          ],
          "name": "stdout"
        },
        {
          "output_type": "stream",
          "text": [
            "/usr/local/lib/python3.6/dist-packages/sklearn/model_selection/_search.py:762: DeprecationWarning: The grid_scores_ attribute was deprecated in version 0.18 in favor of the more elaborate cv_results_ attribute. The grid_scores_ attribute will not be available from 0.20\n",
            "  DeprecationWarning)\n"
          ],
          "name": "stderr"
        }
      ]
    },
    {
      "metadata": {
        "id": "wftUtOUk5dyP",
        "colab_type": "code",
        "colab": {
          "base_uri": "https://localhost:8080/",
          "height": 280
        },
        "outputId": "0ab88892-d1df-4dbd-ad13-6835020c462b"
      },
      "cell_type": "code",
      "source": [
        "# linear regression\n",
        "from sklearn.linear_model import SGDRegressor,BayesianRidge\n",
        "#print(cross_val_score(LinearRegression(),x_poly,y,cv=5,scoring=rmse_score))\n",
        "print(cross_val_score(BayesianRidge(),x_poly,y,cv=5,scoring=rmse_score))\n",
        "print(cross_val_score(SGDRegressor(),X,y,cv=5,scoring=rmse_score))"
      ],
      "execution_count": 0,
      "outputs": [
        {
          "output_type": "stream",
          "text": [
            "[-1242.16512203 -1551.95177437  -924.64766833  -866.45532714\n",
            " -1344.9176761 ]\n"
          ],
          "name": "stdout"
        },
        {
          "output_type": "stream",
          "text": [
            "/usr/local/lib/python3.6/dist-packages/sklearn/linear_model/stochastic_gradient.py:128: FutureWarning: max_iter and tol parameters have been added in <class 'sklearn.linear_model.stochastic_gradient.SGDRegressor'> in 0.19. If both are left unset, they default to max_iter=5 and tol=None. If tol is not None, max_iter defaults to max_iter=1000. From 0.21, default max_iter will be 1000, and default tol will be 1e-3.\n",
            "  \"and default tol will be 1e-3.\" % type(self), FutureWarning)\n",
            "/usr/local/lib/python3.6/dist-packages/sklearn/linear_model/stochastic_gradient.py:128: FutureWarning: max_iter and tol parameters have been added in <class 'sklearn.linear_model.stochastic_gradient.SGDRegressor'> in 0.19. If both are left unset, they default to max_iter=5 and tol=None. If tol is not None, max_iter defaults to max_iter=1000. From 0.21, default max_iter will be 1000, and default tol will be 1e-3.\n",
            "  \"and default tol will be 1e-3.\" % type(self), FutureWarning)\n",
            "/usr/local/lib/python3.6/dist-packages/sklearn/linear_model/stochastic_gradient.py:128: FutureWarning: max_iter and tol parameters have been added in <class 'sklearn.linear_model.stochastic_gradient.SGDRegressor'> in 0.19. If both are left unset, they default to max_iter=5 and tol=None. If tol is not None, max_iter defaults to max_iter=1000. From 0.21, default max_iter will be 1000, and default tol will be 1e-3.\n",
            "  \"and default tol will be 1e-3.\" % type(self), FutureWarning)\n",
            "/usr/local/lib/python3.6/dist-packages/sklearn/linear_model/stochastic_gradient.py:128: FutureWarning: max_iter and tol parameters have been added in <class 'sklearn.linear_model.stochastic_gradient.SGDRegressor'> in 0.19. If both are left unset, they default to max_iter=5 and tol=None. If tol is not None, max_iter defaults to max_iter=1000. From 0.21, default max_iter will be 1000, and default tol will be 1e-3.\n",
            "  \"and default tol will be 1e-3.\" % type(self), FutureWarning)\n",
            "/usr/local/lib/python3.6/dist-packages/sklearn/linear_model/stochastic_gradient.py:128: FutureWarning: max_iter and tol parameters have been added in <class 'sklearn.linear_model.stochastic_gradient.SGDRegressor'> in 0.19. If both are left unset, they default to max_iter=5 and tol=None. If tol is not None, max_iter defaults to max_iter=1000. From 0.21, default max_iter will be 1000, and default tol will be 1e-3.\n",
            "  \"and default tol will be 1e-3.\" % type(self), FutureWarning)\n"
          ],
          "name": "stderr"
        },
        {
          "output_type": "stream",
          "text": [
            "[-6.31385956e+18 -1.54664559e+18 -7.60638178e+18 -1.29512456e+18\n",
            " -2.37914354e+19]\n"
          ],
          "name": "stdout"
        }
      ]
    },
    {
      "metadata": {
        "id": "h7R6dOwH5dri",
        "colab_type": "code",
        "colab": {
          "base_uri": "https://localhost:8080/",
          "height": 52
        },
        "outputId": "5407e5fc-cb32-44c1-fd94-c03cae9f1153"
      },
      "cell_type": "code",
      "source": [
        "from sklearn.preprocessing import PolynomialFeatures\n",
        "print(cross_val_score(LinearRegression(),X_poly,y,cv=5,scoring=rmse_score))"
      ],
      "execution_count": 0,
      "outputs": [
        {
          "output_type": "stream",
          "text": [
            "[-1242.91420687 -1550.94930774  -925.46876226  -866.76504859\n",
            " -1345.87700275]\n"
          ],
          "name": "stdout"
        }
      ]
    },
    {
      "metadata": {
        "id": "9bMWBzaUc8II",
        "colab_type": "code",
        "colab": {}
      },
      "cell_type": "code",
      "source": [
        "\n",
        "poly = PolynomialFeatures(degree=2)\n",
        "x_poly = poly.fit_transform(X)\n",
        "test_poly = poly.fit_transform(test)"
      ],
      "execution_count": 0,
      "outputs": []
    },
    {
      "metadata": {
        "id": "j6OFSIAC5dpV",
        "colab_type": "code",
        "colab": {}
      },
      "cell_type": "code",
      "source": [
        "lr_poly = LinearRegression().fit(X_poly,y)\n",
        "submit_file(lr_poly)"
      ],
      "execution_count": 0,
      "outputs": []
    },
    {
      "metadata": {
        "id": "Sf6Ix-LDfih8",
        "colab_type": "code",
        "colab": {
          "base_uri": "https://localhost:8080/",
          "height": 72
        },
        "outputId": "69301ac4-16e9-4326-d751-ca34450d6083"
      },
      "cell_type": "code",
      "source": [
        "lr_poly = SGDRegressor().fit(X_poly,y)\n",
        "submit_file(lr_poly)"
      ],
      "execution_count": 0,
      "outputs": [
        {
          "output_type": "stream",
          "text": [
            "/usr/local/lib/python3.6/dist-packages/sklearn/linear_model/stochastic_gradient.py:128: FutureWarning: max_iter and tol parameters have been added in <class 'sklearn.linear_model.stochastic_gradient.SGDRegressor'> in 0.19. If both are left unset, they default to max_iter=5 and tol=None. If tol is not None, max_iter defaults to max_iter=1000. From 0.21, default max_iter will be 1000, and default tol will be 1e-3.\n",
            "  \"and default tol will be 1e-3.\" % type(self), FutureWarning)\n"
          ],
          "name": "stderr"
        }
      ]
    }
  ]
}